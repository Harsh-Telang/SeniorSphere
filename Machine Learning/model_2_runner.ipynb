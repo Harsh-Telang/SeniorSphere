{
  "nbformat": 4,
  "nbformat_minor": 0,
  "metadata": {
    "colab": {
      "provenance": []
    },
    "kernelspec": {
      "name": "python3",
      "display_name": "Python 3"
    },
    "language_info": {
      "name": "python"
    }
  },
  "cells": [
    {
      "cell_type": "markdown",
      "source": [],
      "metadata": {
        "id": "F61-TPZEtO0c"
      }
    },
    {
      "cell_type": "code",
      "execution_count": 33,
      "metadata": {
        "id": "JVjfXZJ8p3Ao"
      },
      "outputs": [],
      "source": [
        "import numpy as np\n",
        "from tensorflow.keras.models import load_model\n",
        "\n",
        "def ecg_classification(arr):\n",
        "  y=arr\n",
        "  y=np.expand_dims(y,axis=0)\n",
        "  model=load_model(\"best_model.h5\")\n",
        "  pred=model.predict(y)\n",
        "  return pred.argmax()"
      ]
    },
    {
      "cell_type": "code",
      "source": [
        "op=ecg_classification(y)\n",
        "op"
      ],
      "metadata": {
        "colab": {
          "base_uri": "https://localhost:8080/"
        },
        "id": "c_FfS5auvdmS",
        "outputId": "3dd5be91-d40d-4fdd-be0f-46116c73dbdc"
      },
      "execution_count": 34,
      "outputs": [
        {
          "output_type": "stream",
          "name": "stdout",
          "text": [
            "1/1 [==============================] - 0s 153ms/step\n"
          ]
        },
        {
          "output_type": "execute_result",
          "data": {
            "text/plain": [
              "4"
            ]
          },
          "metadata": {},
          "execution_count": 34
        }
      ]
    }
  ]
}