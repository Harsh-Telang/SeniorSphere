{
  "nbformat": 4,
  "nbformat_minor": 0,
  "metadata": {
    "colab": {
      "provenance": []
    },
    "kernelspec": {
      "name": "python3",
      "display_name": "Python 3"
    },
    "language_info": {
      "name": "python"
    }
  },
  "cells": [
    {
      "cell_type": "code",
      "source": [
        "import random\n",
        "import pickle"
      ],
      "metadata": {
        "id": "OInX80S5opzd"
      },
      "execution_count": 9,
      "outputs": []
    },
    {
      "cell_type": "code",
      "execution_count": 7,
      "metadata": {
        "id": "basc3QfpmgI4"
      },
      "outputs": [],
      "source": [
        "def hypertension_classifier(age,sex,trestbps,fbs,restecg):\n",
        "  slope=random.randint(0, 3)\n",
        "  ca=random.randint(0, 4)\n",
        "  ml_model_pl = pickle.load(open('hypertension.pickle', 'rb'))\n",
        "  pred=ml_model_pl.predict([[age,sex,trestbps,fbs,restecg,slope,ca]])\n",
        "  class_names=['no hypertension','hypertension']\n",
        "  return class_names[int(pred)]\n"
      ]
    },
    {
      "cell_type": "code",
      "source": [
        "x=hypertension_classifier(57.0,1.0,145,1,0)"
      ],
      "metadata": {
        "colab": {
          "base_uri": "https://localhost:8080/",
          "height": 92
        },
        "id": "Ep7wTYHfxE7u",
        "outputId": "fc1196a1-5971-47f9-c62c-cf9dbca3ef9f"
      },
      "execution_count": 8,
      "outputs": [
        {
          "output_type": "stream",
          "name": "stderr",
          "text": [
            "/usr/local/lib/python3.9/dist-packages/sklearn/base.py:439: UserWarning: X does not have valid feature names, but RandomForestClassifier was fitted with feature names\n",
            "  warnings.warn(\n"
          ]
        },
        {
          "output_type": "execute_result",
          "data": {
            "text/plain": [
              "'hypertension'"
            ],
            "application/vnd.google.colaboratory.intrinsic+json": {
              "type": "string"
            }
          },
          "metadata": {},
          "execution_count": 8
        }
      ]
    }
  ]
}