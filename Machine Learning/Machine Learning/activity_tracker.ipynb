{
  "nbformat": 4,
  "nbformat_minor": 0,
  "metadata": {
    "colab": {
      "provenance": []
    },
    "kernelspec": {
      "name": "python3",
      "display_name": "Python 3"
    },
    "language_info": {
      "name": "python"
    }
  },
  "cells": [
    {
      "cell_type": "markdown",
      "source": [
        "#Actitvity tracker using apple / fitbit data\n",
        "- Predicting the activity \n"
      ],
      "metadata": {
        "id": "JQAldczEG0fa"
      }
    },
    {
      "cell_type": "code",
      "source": [
        "# Data Collection, Data Cleaning & Data Manipulation \n",
        "import numpy as np \n",
        "import pandas as pd \n",
        "from sklearn import datasets \n",
        "\n",
        "# Data Visualization\n",
        "import matplotlib\n",
        "import matplotlib.pyplot as plt\n",
        "import seaborn as sns\n",
        "# sns.set(font_scale = 1)\n",
        "from sklearn.preprocessing import OneHotEncoder,LabelEncoder"
      ],
      "metadata": {
        "id": "abcJbT1TNbHr"
      },
      "execution_count": null,
      "outputs": []
    },
    {
      "cell_type": "code",
      "source": [
        "data = pd.read_csv('/content/aw_fb_data.csv')\n",
        "data.head()"
      ],
      "metadata": {
        "colab": {
          "base_uri": "https://localhost:8080/",
          "height": 374
        },
        "id": "J8Nw9pSaNeg0",
        "outputId": "a5f46e57-4bd5-4225-ff12-e5e06086dc41"
      },
      "execution_count": null,
      "outputs": [
        {
          "output_type": "execute_result",
          "data": {
            "text/plain": [
              "   Unnamed: 0  X1  age  gender  height  weight      steps  hear_rate  \\\n",
              "0           1   1   20       1   168.0    65.4  10.771429  78.531302   \n",
              "1           2   2   20       1   168.0    65.4  11.475325  78.453390   \n",
              "2           3   3   20       1   168.0    65.4  12.179221  78.540825   \n",
              "3           4   4   20       1   168.0    65.4  12.883117  78.628260   \n",
              "4           5   5   20       1   168.0    65.4  13.587013  78.715695   \n",
              "\n",
              "    calories  distance  entropy_heart  entropy_setps  resting_heart  \\\n",
              "0   0.344533  0.008327       6.221612       6.116349           59.0   \n",
              "1   3.287625  0.008896       6.221612       6.116349           59.0   \n",
              "2   9.484000  0.009466       6.221612       6.116349           59.0   \n",
              "3  10.154556  0.010035       6.221612       6.116349           59.0   \n",
              "4  10.825111  0.010605       6.221612       6.116349           59.0   \n",
              "\n",
              "   corr_heart_steps  norm_heart  intensity_karvonen  sd_norm_heart  \\\n",
              "0          1.000000   19.531302            0.138520       1.000000   \n",
              "1          1.000000   19.453390            0.137967       1.000000   \n",
              "2          1.000000   19.540825            0.138587       1.000000   \n",
              "3          1.000000   19.628260            0.139208       1.000000   \n",
              "4          0.982816   19.715695            0.139828       0.241567   \n",
              "\n",
              "   steps_times_distance       device activity  \n",
              "0              0.089692  apple watch    Lying  \n",
              "1              0.102088  apple watch    Lying  \n",
              "2              0.115287  apple watch    Lying  \n",
              "3              0.129286  apple watch    Lying  \n",
              "4              0.144088  apple watch    Lying  "
            ],
            "text/html": [
              "\n",
              "  <div id=\"df-ec9d0cf3-71ae-4e3a-bfe7-7f352b3f6b73\">\n",
              "    <div class=\"colab-df-container\">\n",
              "      <div>\n",
              "<style scoped>\n",
              "    .dataframe tbody tr th:only-of-type {\n",
              "        vertical-align: middle;\n",
              "    }\n",
              "\n",
              "    .dataframe tbody tr th {\n",
              "        vertical-align: top;\n",
              "    }\n",
              "\n",
              "    .dataframe thead th {\n",
              "        text-align: right;\n",
              "    }\n",
              "</style>\n",
              "<table border=\"1\" class=\"dataframe\">\n",
              "  <thead>\n",
              "    <tr style=\"text-align: right;\">\n",
              "      <th></th>\n",
              "      <th>Unnamed: 0</th>\n",
              "      <th>X1</th>\n",
              "      <th>age</th>\n",
              "      <th>gender</th>\n",
              "      <th>height</th>\n",
              "      <th>weight</th>\n",
              "      <th>steps</th>\n",
              "      <th>hear_rate</th>\n",
              "      <th>calories</th>\n",
              "      <th>distance</th>\n",
              "      <th>entropy_heart</th>\n",
              "      <th>entropy_setps</th>\n",
              "      <th>resting_heart</th>\n",
              "      <th>corr_heart_steps</th>\n",
              "      <th>norm_heart</th>\n",
              "      <th>intensity_karvonen</th>\n",
              "      <th>sd_norm_heart</th>\n",
              "      <th>steps_times_distance</th>\n",
              "      <th>device</th>\n",
              "      <th>activity</th>\n",
              "    </tr>\n",
              "  </thead>\n",
              "  <tbody>\n",
              "    <tr>\n",
              "      <th>0</th>\n",
              "      <td>1</td>\n",
              "      <td>1</td>\n",
              "      <td>20</td>\n",
              "      <td>1</td>\n",
              "      <td>168.0</td>\n",
              "      <td>65.4</td>\n",
              "      <td>10.771429</td>\n",
              "      <td>78.531302</td>\n",
              "      <td>0.344533</td>\n",
              "      <td>0.008327</td>\n",
              "      <td>6.221612</td>\n",
              "      <td>6.116349</td>\n",
              "      <td>59.0</td>\n",
              "      <td>1.000000</td>\n",
              "      <td>19.531302</td>\n",
              "      <td>0.138520</td>\n",
              "      <td>1.000000</td>\n",
              "      <td>0.089692</td>\n",
              "      <td>apple watch</td>\n",
              "      <td>Lying</td>\n",
              "    </tr>\n",
              "    <tr>\n",
              "      <th>1</th>\n",
              "      <td>2</td>\n",
              "      <td>2</td>\n",
              "      <td>20</td>\n",
              "      <td>1</td>\n",
              "      <td>168.0</td>\n",
              "      <td>65.4</td>\n",
              "      <td>11.475325</td>\n",
              "      <td>78.453390</td>\n",
              "      <td>3.287625</td>\n",
              "      <td>0.008896</td>\n",
              "      <td>6.221612</td>\n",
              "      <td>6.116349</td>\n",
              "      <td>59.0</td>\n",
              "      <td>1.000000</td>\n",
              "      <td>19.453390</td>\n",
              "      <td>0.137967</td>\n",
              "      <td>1.000000</td>\n",
              "      <td>0.102088</td>\n",
              "      <td>apple watch</td>\n",
              "      <td>Lying</td>\n",
              "    </tr>\n",
              "    <tr>\n",
              "      <th>2</th>\n",
              "      <td>3</td>\n",
              "      <td>3</td>\n",
              "      <td>20</td>\n",
              "      <td>1</td>\n",
              "      <td>168.0</td>\n",
              "      <td>65.4</td>\n",
              "      <td>12.179221</td>\n",
              "      <td>78.540825</td>\n",
              "      <td>9.484000</td>\n",
              "      <td>0.009466</td>\n",
              "      <td>6.221612</td>\n",
              "      <td>6.116349</td>\n",
              "      <td>59.0</td>\n",
              "      <td>1.000000</td>\n",
              "      <td>19.540825</td>\n",
              "      <td>0.138587</td>\n",
              "      <td>1.000000</td>\n",
              "      <td>0.115287</td>\n",
              "      <td>apple watch</td>\n",
              "      <td>Lying</td>\n",
              "    </tr>\n",
              "    <tr>\n",
              "      <th>3</th>\n",
              "      <td>4</td>\n",
              "      <td>4</td>\n",
              "      <td>20</td>\n",
              "      <td>1</td>\n",
              "      <td>168.0</td>\n",
              "      <td>65.4</td>\n",
              "      <td>12.883117</td>\n",
              "      <td>78.628260</td>\n",
              "      <td>10.154556</td>\n",
              "      <td>0.010035</td>\n",
              "      <td>6.221612</td>\n",
              "      <td>6.116349</td>\n",
              "      <td>59.0</td>\n",
              "      <td>1.000000</td>\n",
              "      <td>19.628260</td>\n",
              "      <td>0.139208</td>\n",
              "      <td>1.000000</td>\n",
              "      <td>0.129286</td>\n",
              "      <td>apple watch</td>\n",
              "      <td>Lying</td>\n",
              "    </tr>\n",
              "    <tr>\n",
              "      <th>4</th>\n",
              "      <td>5</td>\n",
              "      <td>5</td>\n",
              "      <td>20</td>\n",
              "      <td>1</td>\n",
              "      <td>168.0</td>\n",
              "      <td>65.4</td>\n",
              "      <td>13.587013</td>\n",
              "      <td>78.715695</td>\n",
              "      <td>10.825111</td>\n",
              "      <td>0.010605</td>\n",
              "      <td>6.221612</td>\n",
              "      <td>6.116349</td>\n",
              "      <td>59.0</td>\n",
              "      <td>0.982816</td>\n",
              "      <td>19.715695</td>\n",
              "      <td>0.139828</td>\n",
              "      <td>0.241567</td>\n",
              "      <td>0.144088</td>\n",
              "      <td>apple watch</td>\n",
              "      <td>Lying</td>\n",
              "    </tr>\n",
              "  </tbody>\n",
              "</table>\n",
              "</div>\n",
              "      <button class=\"colab-df-convert\" onclick=\"convertToInteractive('df-ec9d0cf3-71ae-4e3a-bfe7-7f352b3f6b73')\"\n",
              "              title=\"Convert this dataframe to an interactive table.\"\n",
              "              style=\"display:none;\">\n",
              "        \n",
              "  <svg xmlns=\"http://www.w3.org/2000/svg\" height=\"24px\"viewBox=\"0 0 24 24\"\n",
              "       width=\"24px\">\n",
              "    <path d=\"M0 0h24v24H0V0z\" fill=\"none\"/>\n",
              "    <path d=\"M18.56 5.44l.94 2.06.94-2.06 2.06-.94-2.06-.94-.94-2.06-.94 2.06-2.06.94zm-11 1L8.5 8.5l.94-2.06 2.06-.94-2.06-.94L8.5 2.5l-.94 2.06-2.06.94zm10 10l.94 2.06.94-2.06 2.06-.94-2.06-.94-.94-2.06-.94 2.06-2.06.94z\"/><path d=\"M17.41 7.96l-1.37-1.37c-.4-.4-.92-.59-1.43-.59-.52 0-1.04.2-1.43.59L10.3 9.45l-7.72 7.72c-.78.78-.78 2.05 0 2.83L4 21.41c.39.39.9.59 1.41.59.51 0 1.02-.2 1.41-.59l7.78-7.78 2.81-2.81c.8-.78.8-2.07 0-2.86zM5.41 20L4 18.59l7.72-7.72 1.47 1.35L5.41 20z\"/>\n",
              "  </svg>\n",
              "      </button>\n",
              "      \n",
              "  <style>\n",
              "    .colab-df-container {\n",
              "      display:flex;\n",
              "      flex-wrap:wrap;\n",
              "      gap: 12px;\n",
              "    }\n",
              "\n",
              "    .colab-df-convert {\n",
              "      background-color: #E8F0FE;\n",
              "      border: none;\n",
              "      border-radius: 50%;\n",
              "      cursor: pointer;\n",
              "      display: none;\n",
              "      fill: #1967D2;\n",
              "      height: 32px;\n",
              "      padding: 0 0 0 0;\n",
              "      width: 32px;\n",
              "    }\n",
              "\n",
              "    .colab-df-convert:hover {\n",
              "      background-color: #E2EBFA;\n",
              "      box-shadow: 0px 1px 2px rgba(60, 64, 67, 0.3), 0px 1px 3px 1px rgba(60, 64, 67, 0.15);\n",
              "      fill: #174EA6;\n",
              "    }\n",
              "\n",
              "    [theme=dark] .colab-df-convert {\n",
              "      background-color: #3B4455;\n",
              "      fill: #D2E3FC;\n",
              "    }\n",
              "\n",
              "    [theme=dark] .colab-df-convert:hover {\n",
              "      background-color: #434B5C;\n",
              "      box-shadow: 0px 1px 3px 1px rgba(0, 0, 0, 0.15);\n",
              "      filter: drop-shadow(0px 1px 2px rgba(0, 0, 0, 0.3));\n",
              "      fill: #FFFFFF;\n",
              "    }\n",
              "  </style>\n",
              "\n",
              "      <script>\n",
              "        const buttonEl =\n",
              "          document.querySelector('#df-ec9d0cf3-71ae-4e3a-bfe7-7f352b3f6b73 button.colab-df-convert');\n",
              "        buttonEl.style.display =\n",
              "          google.colab.kernel.accessAllowed ? 'block' : 'none';\n",
              "\n",
              "        async function convertToInteractive(key) {\n",
              "          const element = document.querySelector('#df-ec9d0cf3-71ae-4e3a-bfe7-7f352b3f6b73');\n",
              "          const dataTable =\n",
              "            await google.colab.kernel.invokeFunction('convertToInteractive',\n",
              "                                                     [key], {});\n",
              "          if (!dataTable) return;\n",
              "\n",
              "          const docLinkHtml = 'Like what you see? Visit the ' +\n",
              "            '<a target=\"_blank\" href=https://colab.research.google.com/notebooks/data_table.ipynb>data table notebook</a>'\n",
              "            + ' to learn more about interactive tables.';\n",
              "          element.innerHTML = '';\n",
              "          dataTable['output_type'] = 'display_data';\n",
              "          await google.colab.output.renderOutput(dataTable, element);\n",
              "          const docLink = document.createElement('div');\n",
              "          docLink.innerHTML = docLinkHtml;\n",
              "          element.appendChild(docLink);\n",
              "        }\n",
              "      </script>\n",
              "    </div>\n",
              "  </div>\n",
              "  "
            ]
          },
          "metadata": {},
          "execution_count": 7
        }
      ]
    },
    {
      "cell_type": "code",
      "source": [
        "data.shape"
      ],
      "metadata": {
        "colab": {
          "base_uri": "https://localhost:8080/"
        },
        "id": "ymoU3jwJN3sQ",
        "outputId": "fa47bbd8-dfc2-41c7-d46d-4a997b3a8ea7"
      },
      "execution_count": null,
      "outputs": [
        {
          "output_type": "execute_result",
          "data": {
            "text/plain": [
              "(6264, 20)"
            ]
          },
          "metadata": {},
          "execution_count": 9
        }
      ]
    },
    {
      "cell_type": "code",
      "source": [
        "# copy the dataframe\n",
        "data1=data"
      ],
      "metadata": {
        "id": "24BLJGreOBlW"
      },
      "execution_count": null,
      "outputs": []
    },
    {
      "cell_type": "code",
      "source": [
        "# check the columns\n",
        "data1.columns\n"
      ],
      "metadata": {
        "colab": {
          "base_uri": "https://localhost:8080/"
        },
        "id": "yNDmDH6MOCtg",
        "outputId": "eb574bc7-72d7-4ea2-d031-f28d8290f8c4"
      },
      "execution_count": null,
      "outputs": [
        {
          "output_type": "execute_result",
          "data": {
            "text/plain": [
              "Index(['Unnamed: 0', 'X1', 'age', 'gender', 'height', 'weight', 'steps',\n",
              "       'hear_rate', 'calories', 'distance', 'entropy_heart', 'entropy_setps',\n",
              "       'resting_heart', 'corr_heart_steps', 'norm_heart', 'intensity_karvonen',\n",
              "       'sd_norm_heart', 'steps_times_distance', 'device', 'activity'],\n",
              "      dtype='object')"
            ]
          },
          "metadata": {},
          "execution_count": 12
        }
      ]
    },
    {
      "cell_type": "code",
      "source": [
        "df= data1.drop(['device','Unnamed: 0','X1', 'age', 'gender','entropy_heart', 'entropy_setps',\n",
        "        'corr_heart_steps', 'norm_heart', 'intensity_karvonen',\n",
        "       'sd_norm_heart', 'steps_times_distance','hear_rate'], axis=1)"
      ],
      "metadata": {
        "id": "c3IOylRAOMqF"
      },
      "execution_count": null,
      "outputs": []
    },
    {
      "cell_type": "code",
      "source": [
        "df"
      ],
      "metadata": {
        "colab": {
          "base_uri": "https://localhost:8080/",
          "height": 423
        },
        "id": "yMJeaDHjORuV",
        "outputId": "b030794c-03c6-4715-f40d-35f60f0acdc4"
      },
      "execution_count": null,
      "outputs": [
        {
          "output_type": "execute_result",
          "data": {
            "text/plain": [
              "      height  weight      steps   calories  distance  resting_heart  \\\n",
              "0      168.0    65.4  10.771429   0.344533  0.008327           59.0   \n",
              "1      168.0    65.4  11.475325   3.287625  0.008896           59.0   \n",
              "2      168.0    65.4  12.179221   9.484000  0.009466           59.0   \n",
              "3      168.0    65.4  12.883117  10.154556  0.010035           59.0   \n",
              "4      168.0    65.4  13.587013  10.825111  0.010605           59.0   \n",
              "...      ...     ...        ...        ...       ...            ...   \n",
              "6259   157.5    71.4   1.000000  20.500000  1.000000           35.0   \n",
              "6260   157.5    71.4   1.000000  20.500000  1.000000           35.0   \n",
              "6261   157.5    71.4   1.000000  20.500000  1.000000           35.0   \n",
              "6262   157.5    71.4   1.000000  20.500000  1.000000           35.0   \n",
              "6263   157.5    71.4   1.000000  20.500000  1.000000           35.0   \n",
              "\n",
              "            activity  \n",
              "0              Lying  \n",
              "1              Lying  \n",
              "2              Lying  \n",
              "3              Lying  \n",
              "4              Lying  \n",
              "...              ...  \n",
              "6259  Running 7 METs  \n",
              "6260  Running 7 METs  \n",
              "6261  Running 7 METs  \n",
              "6262  Running 7 METs  \n",
              "6263  Running 7 METs  \n",
              "\n",
              "[6264 rows x 7 columns]"
            ],
            "text/html": [
              "\n",
              "  <div id=\"df-6a4a5dff-9d4c-45c2-9293-fd3a5f19ebb8\">\n",
              "    <div class=\"colab-df-container\">\n",
              "      <div>\n",
              "<style scoped>\n",
              "    .dataframe tbody tr th:only-of-type {\n",
              "        vertical-align: middle;\n",
              "    }\n",
              "\n",
              "    .dataframe tbody tr th {\n",
              "        vertical-align: top;\n",
              "    }\n",
              "\n",
              "    .dataframe thead th {\n",
              "        text-align: right;\n",
              "    }\n",
              "</style>\n",
              "<table border=\"1\" class=\"dataframe\">\n",
              "  <thead>\n",
              "    <tr style=\"text-align: right;\">\n",
              "      <th></th>\n",
              "      <th>height</th>\n",
              "      <th>weight</th>\n",
              "      <th>steps</th>\n",
              "      <th>calories</th>\n",
              "      <th>distance</th>\n",
              "      <th>resting_heart</th>\n",
              "      <th>activity</th>\n",
              "    </tr>\n",
              "  </thead>\n",
              "  <tbody>\n",
              "    <tr>\n",
              "      <th>0</th>\n",
              "      <td>168.0</td>\n",
              "      <td>65.4</td>\n",
              "      <td>10.771429</td>\n",
              "      <td>0.344533</td>\n",
              "      <td>0.008327</td>\n",
              "      <td>59.0</td>\n",
              "      <td>Lying</td>\n",
              "    </tr>\n",
              "    <tr>\n",
              "      <th>1</th>\n",
              "      <td>168.0</td>\n",
              "      <td>65.4</td>\n",
              "      <td>11.475325</td>\n",
              "      <td>3.287625</td>\n",
              "      <td>0.008896</td>\n",
              "      <td>59.0</td>\n",
              "      <td>Lying</td>\n",
              "    </tr>\n",
              "    <tr>\n",
              "      <th>2</th>\n",
              "      <td>168.0</td>\n",
              "      <td>65.4</td>\n",
              "      <td>12.179221</td>\n",
              "      <td>9.484000</td>\n",
              "      <td>0.009466</td>\n",
              "      <td>59.0</td>\n",
              "      <td>Lying</td>\n",
              "    </tr>\n",
              "    <tr>\n",
              "      <th>3</th>\n",
              "      <td>168.0</td>\n",
              "      <td>65.4</td>\n",
              "      <td>12.883117</td>\n",
              "      <td>10.154556</td>\n",
              "      <td>0.010035</td>\n",
              "      <td>59.0</td>\n",
              "      <td>Lying</td>\n",
              "    </tr>\n",
              "    <tr>\n",
              "      <th>4</th>\n",
              "      <td>168.0</td>\n",
              "      <td>65.4</td>\n",
              "      <td>13.587013</td>\n",
              "      <td>10.825111</td>\n",
              "      <td>0.010605</td>\n",
              "      <td>59.0</td>\n",
              "      <td>Lying</td>\n",
              "    </tr>\n",
              "    <tr>\n",
              "      <th>...</th>\n",
              "      <td>...</td>\n",
              "      <td>...</td>\n",
              "      <td>...</td>\n",
              "      <td>...</td>\n",
              "      <td>...</td>\n",
              "      <td>...</td>\n",
              "      <td>...</td>\n",
              "    </tr>\n",
              "    <tr>\n",
              "      <th>6259</th>\n",
              "      <td>157.5</td>\n",
              "      <td>71.4</td>\n",
              "      <td>1.000000</td>\n",
              "      <td>20.500000</td>\n",
              "      <td>1.000000</td>\n",
              "      <td>35.0</td>\n",
              "      <td>Running 7 METs</td>\n",
              "    </tr>\n",
              "    <tr>\n",
              "      <th>6260</th>\n",
              "      <td>157.5</td>\n",
              "      <td>71.4</td>\n",
              "      <td>1.000000</td>\n",
              "      <td>20.500000</td>\n",
              "      <td>1.000000</td>\n",
              "      <td>35.0</td>\n",
              "      <td>Running 7 METs</td>\n",
              "    </tr>\n",
              "    <tr>\n",
              "      <th>6261</th>\n",
              "      <td>157.5</td>\n",
              "      <td>71.4</td>\n",
              "      <td>1.000000</td>\n",
              "      <td>20.500000</td>\n",
              "      <td>1.000000</td>\n",
              "      <td>35.0</td>\n",
              "      <td>Running 7 METs</td>\n",
              "    </tr>\n",
              "    <tr>\n",
              "      <th>6262</th>\n",
              "      <td>157.5</td>\n",
              "      <td>71.4</td>\n",
              "      <td>1.000000</td>\n",
              "      <td>20.500000</td>\n",
              "      <td>1.000000</td>\n",
              "      <td>35.0</td>\n",
              "      <td>Running 7 METs</td>\n",
              "    </tr>\n",
              "    <tr>\n",
              "      <th>6263</th>\n",
              "      <td>157.5</td>\n",
              "      <td>71.4</td>\n",
              "      <td>1.000000</td>\n",
              "      <td>20.500000</td>\n",
              "      <td>1.000000</td>\n",
              "      <td>35.0</td>\n",
              "      <td>Running 7 METs</td>\n",
              "    </tr>\n",
              "  </tbody>\n",
              "</table>\n",
              "<p>6264 rows × 7 columns</p>\n",
              "</div>\n",
              "      <button class=\"colab-df-convert\" onclick=\"convertToInteractive('df-6a4a5dff-9d4c-45c2-9293-fd3a5f19ebb8')\"\n",
              "              title=\"Convert this dataframe to an interactive table.\"\n",
              "              style=\"display:none;\">\n",
              "        \n",
              "  <svg xmlns=\"http://www.w3.org/2000/svg\" height=\"24px\"viewBox=\"0 0 24 24\"\n",
              "       width=\"24px\">\n",
              "    <path d=\"M0 0h24v24H0V0z\" fill=\"none\"/>\n",
              "    <path d=\"M18.56 5.44l.94 2.06.94-2.06 2.06-.94-2.06-.94-.94-2.06-.94 2.06-2.06.94zm-11 1L8.5 8.5l.94-2.06 2.06-.94-2.06-.94L8.5 2.5l-.94 2.06-2.06.94zm10 10l.94 2.06.94-2.06 2.06-.94-2.06-.94-.94-2.06-.94 2.06-2.06.94z\"/><path d=\"M17.41 7.96l-1.37-1.37c-.4-.4-.92-.59-1.43-.59-.52 0-1.04.2-1.43.59L10.3 9.45l-7.72 7.72c-.78.78-.78 2.05 0 2.83L4 21.41c.39.39.9.59 1.41.59.51 0 1.02-.2 1.41-.59l7.78-7.78 2.81-2.81c.8-.78.8-2.07 0-2.86zM5.41 20L4 18.59l7.72-7.72 1.47 1.35L5.41 20z\"/>\n",
              "  </svg>\n",
              "      </button>\n",
              "      \n",
              "  <style>\n",
              "    .colab-df-container {\n",
              "      display:flex;\n",
              "      flex-wrap:wrap;\n",
              "      gap: 12px;\n",
              "    }\n",
              "\n",
              "    .colab-df-convert {\n",
              "      background-color: #E8F0FE;\n",
              "      border: none;\n",
              "      border-radius: 50%;\n",
              "      cursor: pointer;\n",
              "      display: none;\n",
              "      fill: #1967D2;\n",
              "      height: 32px;\n",
              "      padding: 0 0 0 0;\n",
              "      width: 32px;\n",
              "    }\n",
              "\n",
              "    .colab-df-convert:hover {\n",
              "      background-color: #E2EBFA;\n",
              "      box-shadow: 0px 1px 2px rgba(60, 64, 67, 0.3), 0px 1px 3px 1px rgba(60, 64, 67, 0.15);\n",
              "      fill: #174EA6;\n",
              "    }\n",
              "\n",
              "    [theme=dark] .colab-df-convert {\n",
              "      background-color: #3B4455;\n",
              "      fill: #D2E3FC;\n",
              "    }\n",
              "\n",
              "    [theme=dark] .colab-df-convert:hover {\n",
              "      background-color: #434B5C;\n",
              "      box-shadow: 0px 1px 3px 1px rgba(0, 0, 0, 0.15);\n",
              "      filter: drop-shadow(0px 1px 2px rgba(0, 0, 0, 0.3));\n",
              "      fill: #FFFFFF;\n",
              "    }\n",
              "  </style>\n",
              "\n",
              "      <script>\n",
              "        const buttonEl =\n",
              "          document.querySelector('#df-6a4a5dff-9d4c-45c2-9293-fd3a5f19ebb8 button.colab-df-convert');\n",
              "        buttonEl.style.display =\n",
              "          google.colab.kernel.accessAllowed ? 'block' : 'none';\n",
              "\n",
              "        async function convertToInteractive(key) {\n",
              "          const element = document.querySelector('#df-6a4a5dff-9d4c-45c2-9293-fd3a5f19ebb8');\n",
              "          const dataTable =\n",
              "            await google.colab.kernel.invokeFunction('convertToInteractive',\n",
              "                                                     [key], {});\n",
              "          if (!dataTable) return;\n",
              "\n",
              "          const docLinkHtml = 'Like what you see? Visit the ' +\n",
              "            '<a target=\"_blank\" href=https://colab.research.google.com/notebooks/data_table.ipynb>data table notebook</a>'\n",
              "            + ' to learn more about interactive tables.';\n",
              "          element.innerHTML = '';\n",
              "          dataTable['output_type'] = 'display_data';\n",
              "          await google.colab.output.renderOutput(dataTable, element);\n",
              "          const docLink = document.createElement('div');\n",
              "          docLink.innerHTML = docLinkHtml;\n",
              "          element.appendChild(docLink);\n",
              "        }\n",
              "      </script>\n",
              "    </div>\n",
              "  </div>\n",
              "  "
            ]
          },
          "metadata": {},
          "execution_count": 14
        }
      ]
    },
    {
      "cell_type": "code",
      "source": [
        "df.corr()"
      ],
      "metadata": {
        "colab": {
          "base_uri": "https://localhost:8080/",
          "height": 237
        },
        "id": "nRzitDMfOTzk",
        "outputId": "27e6b484-06da-4e66-c667-c57996d0c144"
      },
      "execution_count": null,
      "outputs": [
        {
          "output_type": "execute_result",
          "data": {
            "text/plain": [
              "                 height    weight     steps  calories  distance  resting_heart\n",
              "height         1.000000  0.693504  0.025729  0.034447 -0.091422      -0.028330\n",
              "weight         0.693504  1.000000  0.045389 -0.023612 -0.072294      -0.014345\n",
              "steps          0.025729  0.045389  1.000000 -0.250973 -0.090433       0.083964\n",
              "calories       0.034447 -0.023612 -0.250973  1.000000  0.255145      -0.055703\n",
              "distance      -0.091422 -0.072294 -0.090433  0.255145  1.000000      -0.320791\n",
              "resting_heart -0.028330 -0.014345  0.083964 -0.055703 -0.320791       1.000000"
            ],
            "text/html": [
              "\n",
              "  <div id=\"df-80f423d3-20c3-4d3d-8bce-66920cc2cfe9\">\n",
              "    <div class=\"colab-df-container\">\n",
              "      <div>\n",
              "<style scoped>\n",
              "    .dataframe tbody tr th:only-of-type {\n",
              "        vertical-align: middle;\n",
              "    }\n",
              "\n",
              "    .dataframe tbody tr th {\n",
              "        vertical-align: top;\n",
              "    }\n",
              "\n",
              "    .dataframe thead th {\n",
              "        text-align: right;\n",
              "    }\n",
              "</style>\n",
              "<table border=\"1\" class=\"dataframe\">\n",
              "  <thead>\n",
              "    <tr style=\"text-align: right;\">\n",
              "      <th></th>\n",
              "      <th>height</th>\n",
              "      <th>weight</th>\n",
              "      <th>steps</th>\n",
              "      <th>calories</th>\n",
              "      <th>distance</th>\n",
              "      <th>resting_heart</th>\n",
              "    </tr>\n",
              "  </thead>\n",
              "  <tbody>\n",
              "    <tr>\n",
              "      <th>height</th>\n",
              "      <td>1.000000</td>\n",
              "      <td>0.693504</td>\n",
              "      <td>0.025729</td>\n",
              "      <td>0.034447</td>\n",
              "      <td>-0.091422</td>\n",
              "      <td>-0.028330</td>\n",
              "    </tr>\n",
              "    <tr>\n",
              "      <th>weight</th>\n",
              "      <td>0.693504</td>\n",
              "      <td>1.000000</td>\n",
              "      <td>0.045389</td>\n",
              "      <td>-0.023612</td>\n",
              "      <td>-0.072294</td>\n",
              "      <td>-0.014345</td>\n",
              "    </tr>\n",
              "    <tr>\n",
              "      <th>steps</th>\n",
              "      <td>0.025729</td>\n",
              "      <td>0.045389</td>\n",
              "      <td>1.000000</td>\n",
              "      <td>-0.250973</td>\n",
              "      <td>-0.090433</td>\n",
              "      <td>0.083964</td>\n",
              "    </tr>\n",
              "    <tr>\n",
              "      <th>calories</th>\n",
              "      <td>0.034447</td>\n",
              "      <td>-0.023612</td>\n",
              "      <td>-0.250973</td>\n",
              "      <td>1.000000</td>\n",
              "      <td>0.255145</td>\n",
              "      <td>-0.055703</td>\n",
              "    </tr>\n",
              "    <tr>\n",
              "      <th>distance</th>\n",
              "      <td>-0.091422</td>\n",
              "      <td>-0.072294</td>\n",
              "      <td>-0.090433</td>\n",
              "      <td>0.255145</td>\n",
              "      <td>1.000000</td>\n",
              "      <td>-0.320791</td>\n",
              "    </tr>\n",
              "    <tr>\n",
              "      <th>resting_heart</th>\n",
              "      <td>-0.028330</td>\n",
              "      <td>-0.014345</td>\n",
              "      <td>0.083964</td>\n",
              "      <td>-0.055703</td>\n",
              "      <td>-0.320791</td>\n",
              "      <td>1.000000</td>\n",
              "    </tr>\n",
              "  </tbody>\n",
              "</table>\n",
              "</div>\n",
              "      <button class=\"colab-df-convert\" onclick=\"convertToInteractive('df-80f423d3-20c3-4d3d-8bce-66920cc2cfe9')\"\n",
              "              title=\"Convert this dataframe to an interactive table.\"\n",
              "              style=\"display:none;\">\n",
              "        \n",
              "  <svg xmlns=\"http://www.w3.org/2000/svg\" height=\"24px\"viewBox=\"0 0 24 24\"\n",
              "       width=\"24px\">\n",
              "    <path d=\"M0 0h24v24H0V0z\" fill=\"none\"/>\n",
              "    <path d=\"M18.56 5.44l.94 2.06.94-2.06 2.06-.94-2.06-.94-.94-2.06-.94 2.06-2.06.94zm-11 1L8.5 8.5l.94-2.06 2.06-.94-2.06-.94L8.5 2.5l-.94 2.06-2.06.94zm10 10l.94 2.06.94-2.06 2.06-.94-2.06-.94-.94-2.06-.94 2.06-2.06.94z\"/><path d=\"M17.41 7.96l-1.37-1.37c-.4-.4-.92-.59-1.43-.59-.52 0-1.04.2-1.43.59L10.3 9.45l-7.72 7.72c-.78.78-.78 2.05 0 2.83L4 21.41c.39.39.9.59 1.41.59.51 0 1.02-.2 1.41-.59l7.78-7.78 2.81-2.81c.8-.78.8-2.07 0-2.86zM5.41 20L4 18.59l7.72-7.72 1.47 1.35L5.41 20z\"/>\n",
              "  </svg>\n",
              "      </button>\n",
              "      \n",
              "  <style>\n",
              "    .colab-df-container {\n",
              "      display:flex;\n",
              "      flex-wrap:wrap;\n",
              "      gap: 12px;\n",
              "    }\n",
              "\n",
              "    .colab-df-convert {\n",
              "      background-color: #E8F0FE;\n",
              "      border: none;\n",
              "      border-radius: 50%;\n",
              "      cursor: pointer;\n",
              "      display: none;\n",
              "      fill: #1967D2;\n",
              "      height: 32px;\n",
              "      padding: 0 0 0 0;\n",
              "      width: 32px;\n",
              "    }\n",
              "\n",
              "    .colab-df-convert:hover {\n",
              "      background-color: #E2EBFA;\n",
              "      box-shadow: 0px 1px 2px rgba(60, 64, 67, 0.3), 0px 1px 3px 1px rgba(60, 64, 67, 0.15);\n",
              "      fill: #174EA6;\n",
              "    }\n",
              "\n",
              "    [theme=dark] .colab-df-convert {\n",
              "      background-color: #3B4455;\n",
              "      fill: #D2E3FC;\n",
              "    }\n",
              "\n",
              "    [theme=dark] .colab-df-convert:hover {\n",
              "      background-color: #434B5C;\n",
              "      box-shadow: 0px 1px 3px 1px rgba(0, 0, 0, 0.15);\n",
              "      filter: drop-shadow(0px 1px 2px rgba(0, 0, 0, 0.3));\n",
              "      fill: #FFFFFF;\n",
              "    }\n",
              "  </style>\n",
              "\n",
              "      <script>\n",
              "        const buttonEl =\n",
              "          document.querySelector('#df-80f423d3-20c3-4d3d-8bce-66920cc2cfe9 button.colab-df-convert');\n",
              "        buttonEl.style.display =\n",
              "          google.colab.kernel.accessAllowed ? 'block' : 'none';\n",
              "\n",
              "        async function convertToInteractive(key) {\n",
              "          const element = document.querySelector('#df-80f423d3-20c3-4d3d-8bce-66920cc2cfe9');\n",
              "          const dataTable =\n",
              "            await google.colab.kernel.invokeFunction('convertToInteractive',\n",
              "                                                     [key], {});\n",
              "          if (!dataTable) return;\n",
              "\n",
              "          const docLinkHtml = 'Like what you see? Visit the ' +\n",
              "            '<a target=\"_blank\" href=https://colab.research.google.com/notebooks/data_table.ipynb>data table notebook</a>'\n",
              "            + ' to learn more about interactive tables.';\n",
              "          element.innerHTML = '';\n",
              "          dataTable['output_type'] = 'display_data';\n",
              "          await google.colab.output.renderOutput(dataTable, element);\n",
              "          const docLink = document.createElement('div');\n",
              "          docLink.innerHTML = docLinkHtml;\n",
              "          element.appendChild(docLink);\n",
              "        }\n",
              "      </script>\n",
              "    </div>\n",
              "  </div>\n",
              "  "
            ]
          },
          "metadata": {},
          "execution_count": 15
        }
      ]
    },
    {
      "cell_type": "code",
      "source": [
        "df['activity'].unique()"
      ],
      "metadata": {
        "colab": {
          "base_uri": "https://localhost:8080/"
        },
        "id": "SwF5FLeVOkrb",
        "outputId": "8c13c41c-8d46-4dfe-de81-aad39f29dee9"
      },
      "execution_count": null,
      "outputs": [
        {
          "output_type": "execute_result",
          "data": {
            "text/plain": [
              "array(['Lying', 'Sitting', 'Self Pace walk', 'Running 3 METs',\n",
              "       'Running 5 METs', 'Running 7 METs'], dtype=object)"
            ]
          },
          "metadata": {},
          "execution_count": 16
        }
      ]
    },
    {
      "cell_type": "markdown",
      "source": [
        "--> there are 6 classes of activities\n",
        "  i.e : 'Lying', 'Sitting', 'Self Pace walk', 'Running 3 METs','Running 5 METs', 'Running 7 METs'"
      ],
      "metadata": {
        "id": "UdUEkLOUPSEz"
      }
    },
    {
      "cell_type": "code",
      "source": [
        "label_encode=LabelEncoder()\n",
        "label_encode"
      ],
      "metadata": {
        "colab": {
          "base_uri": "https://localhost:8080/",
          "height": 74
        },
        "id": "CSYglY3yOwN9",
        "outputId": "782102f4-3aaf-466f-a64d-e6e274ac400c"
      },
      "execution_count": null,
      "outputs": [
        {
          "output_type": "execute_result",
          "data": {
            "text/plain": [
              "LabelEncoder()"
            ],
            "text/html": [
              "<style>#sk-container-id-1 {color: black;background-color: white;}#sk-container-id-1 pre{padding: 0;}#sk-container-id-1 div.sk-toggleable {background-color: white;}#sk-container-id-1 label.sk-toggleable__label {cursor: pointer;display: block;width: 100%;margin-bottom: 0;padding: 0.3em;box-sizing: border-box;text-align: center;}#sk-container-id-1 label.sk-toggleable__label-arrow:before {content: \"▸\";float: left;margin-right: 0.25em;color: #696969;}#sk-container-id-1 label.sk-toggleable__label-arrow:hover:before {color: black;}#sk-container-id-1 div.sk-estimator:hover label.sk-toggleable__label-arrow:before {color: black;}#sk-container-id-1 div.sk-toggleable__content {max-height: 0;max-width: 0;overflow: hidden;text-align: left;background-color: #f0f8ff;}#sk-container-id-1 div.sk-toggleable__content pre {margin: 0.2em;color: black;border-radius: 0.25em;background-color: #f0f8ff;}#sk-container-id-1 input.sk-toggleable__control:checked~div.sk-toggleable__content {max-height: 200px;max-width: 100%;overflow: auto;}#sk-container-id-1 input.sk-toggleable__control:checked~label.sk-toggleable__label-arrow:before {content: \"▾\";}#sk-container-id-1 div.sk-estimator input.sk-toggleable__control:checked~label.sk-toggleable__label {background-color: #d4ebff;}#sk-container-id-1 div.sk-label input.sk-toggleable__control:checked~label.sk-toggleable__label {background-color: #d4ebff;}#sk-container-id-1 input.sk-hidden--visually {border: 0;clip: rect(1px 1px 1px 1px);clip: rect(1px, 1px, 1px, 1px);height: 1px;margin: -1px;overflow: hidden;padding: 0;position: absolute;width: 1px;}#sk-container-id-1 div.sk-estimator {font-family: monospace;background-color: #f0f8ff;border: 1px dotted black;border-radius: 0.25em;box-sizing: border-box;margin-bottom: 0.5em;}#sk-container-id-1 div.sk-estimator:hover {background-color: #d4ebff;}#sk-container-id-1 div.sk-parallel-item::after {content: \"\";width: 100%;border-bottom: 1px solid gray;flex-grow: 1;}#sk-container-id-1 div.sk-label:hover label.sk-toggleable__label {background-color: #d4ebff;}#sk-container-id-1 div.sk-serial::before {content: \"\";position: absolute;border-left: 1px solid gray;box-sizing: border-box;top: 0;bottom: 0;left: 50%;z-index: 0;}#sk-container-id-1 div.sk-serial {display: flex;flex-direction: column;align-items: center;background-color: white;padding-right: 0.2em;padding-left: 0.2em;position: relative;}#sk-container-id-1 div.sk-item {position: relative;z-index: 1;}#sk-container-id-1 div.sk-parallel {display: flex;align-items: stretch;justify-content: center;background-color: white;position: relative;}#sk-container-id-1 div.sk-item::before, #sk-container-id-1 div.sk-parallel-item::before {content: \"\";position: absolute;border-left: 1px solid gray;box-sizing: border-box;top: 0;bottom: 0;left: 50%;z-index: -1;}#sk-container-id-1 div.sk-parallel-item {display: flex;flex-direction: column;z-index: 1;position: relative;background-color: white;}#sk-container-id-1 div.sk-parallel-item:first-child::after {align-self: flex-end;width: 50%;}#sk-container-id-1 div.sk-parallel-item:last-child::after {align-self: flex-start;width: 50%;}#sk-container-id-1 div.sk-parallel-item:only-child::after {width: 0;}#sk-container-id-1 div.sk-dashed-wrapped {border: 1px dashed gray;margin: 0 0.4em 0.5em 0.4em;box-sizing: border-box;padding-bottom: 0.4em;background-color: white;}#sk-container-id-1 div.sk-label label {font-family: monospace;font-weight: bold;display: inline-block;line-height: 1.2em;}#sk-container-id-1 div.sk-label-container {text-align: center;}#sk-container-id-1 div.sk-container {/* jupyter's `normalize.less` sets `[hidden] { display: none; }` but bootstrap.min.css set `[hidden] { display: none !important; }` so we also need the `!important` here to be able to override the default hidden behavior on the sphinx rendered scikit-learn.org. See: https://github.com/scikit-learn/scikit-learn/issues/21755 */display: inline-block !important;position: relative;}#sk-container-id-1 div.sk-text-repr-fallback {display: none;}</style><div id=\"sk-container-id-1\" class=\"sk-top-container\"><div class=\"sk-text-repr-fallback\"><pre>LabelEncoder()</pre><b>In a Jupyter environment, please rerun this cell to show the HTML representation or trust the notebook. <br />On GitHub, the HTML representation is unable to render, please try loading this page with nbviewer.org.</b></div><div class=\"sk-container\" hidden><div class=\"sk-item\"><div class=\"sk-estimator sk-toggleable\"><input class=\"sk-toggleable__control sk-hidden--visually\" id=\"sk-estimator-id-1\" type=\"checkbox\" checked><label for=\"sk-estimator-id-1\" class=\"sk-toggleable__label sk-toggleable__label-arrow\">LabelEncoder</label><div class=\"sk-toggleable__content\"><pre>LabelEncoder()</pre></div></div></div></div></div>"
            ]
          },
          "metadata": {},
          "execution_count": 18
        }
      ]
    },
    {
      "cell_type": "code",
      "source": [
        "# applying the label encoder on the activity column\n",
        "le1=label_encode.fit(df['activity'])\n",
        "ac_data1=le1.transform(df['activity'])"
      ],
      "metadata": {
        "id": "PbcUuXhpPJeU"
      },
      "execution_count": null,
      "outputs": []
    },
    {
      "cell_type": "code",
      "source": [
        "ac_data1"
      ],
      "metadata": {
        "colab": {
          "base_uri": "https://localhost:8080/"
        },
        "id": "8DtQmHdoPhiH",
        "outputId": "82cd6ad1-6087-4206-821b-354368176fff"
      },
      "execution_count": null,
      "outputs": [
        {
          "output_type": "execute_result",
          "data": {
            "text/plain": [
              "array([0, 0, 0, ..., 3, 3, 3])"
            ]
          },
          "metadata": {},
          "execution_count": 21
        }
      ]
    },
    {
      "cell_type": "code",
      "source": [
        "le_name_mapping = dict(zip(le1.classes_, le1.transform(le1.classes_)))\n",
        "print(le_name_mapping)"
      ],
      "metadata": {
        "colab": {
          "base_uri": "https://localhost:8080/"
        },
        "id": "z0-JVJGCPjwa",
        "outputId": "9cdff4c3-c722-4a10-9f39-6407eb4e85be"
      },
      "execution_count": null,
      "outputs": [
        {
          "output_type": "stream",
          "name": "stdout",
          "text": [
            "{'Lying': 0, 'Running 3 METs': 1, 'Running 5 METs': 2, 'Running 7 METs': 3, 'Self Pace walk': 4, 'Sitting': 5}\n"
          ]
        }
      ]
    },
    {
      "cell_type": "code",
      "source": [
        "le1.classes_[5]\n"
      ],
      "metadata": {
        "colab": {
          "base_uri": "https://localhost:8080/",
          "height": 36
        },
        "id": "iLH0KB9Yfo9J",
        "outputId": "a33e3be9-dbd1-40ba-e033-974067527f04"
      },
      "execution_count": null,
      "outputs": [
        {
          "output_type": "execute_result",
          "data": {
            "text/plain": [
              "'Sitting'"
            ],
            "application/vnd.google.colaboratory.intrinsic+json": {
              "type": "string"
            }
          },
          "metadata": {},
          "execution_count": 111
        }
      ]
    },
    {
      "cell_type": "code",
      "source": [
        "print(df['activity'].unique())\n",
        "df['activity']=ac_data1\n",
        "print(df['activity'].unique())"
      ],
      "metadata": {
        "colab": {
          "base_uri": "https://localhost:8080/"
        },
        "id": "XRFV38MuRKG-",
        "outputId": "934ff0ac-f492-4d26-bfa6-9df417c13780"
      },
      "execution_count": null,
      "outputs": [
        {
          "output_type": "stream",
          "name": "stdout",
          "text": [
            "[0 5 4 1 2 3]\n",
            "[0 5 4 1 2 3]\n"
          ]
        }
      ]
    },
    {
      "cell_type": "code",
      "source": [
        "df.corr()['activity']"
      ],
      "metadata": {
        "colab": {
          "base_uri": "https://localhost:8080/"
        },
        "id": "H6YZC1rPQsTg",
        "outputId": "219062d8-d6d4-4ac1-bda0-22fd268f6338"
      },
      "execution_count": null,
      "outputs": [
        {
          "output_type": "execute_result",
          "data": {
            "text/plain": [
              "height          -0.006379\n",
              "weight           0.000687\n",
              "steps            0.039420\n",
              "calories         0.044977\n",
              "distance         0.023214\n",
              "resting_heart   -0.015237\n",
              "activity         1.000000\n",
              "Name: activity, dtype: float64"
            ]
          },
          "metadata": {},
          "execution_count": 24
        }
      ]
    },
    {
      "cell_type": "code",
      "source": [
        "target = df['activity'] \n",
        "feature=df.drop(columns = 'activity')\n",
        "print(target)"
      ],
      "metadata": {
        "colab": {
          "base_uri": "https://localhost:8080/"
        },
        "id": "l_OjT-gKRSXm",
        "outputId": "779b7ce7-dbaa-4039-ea4b-4d7e386900ce"
      },
      "execution_count": null,
      "outputs": [
        {
          "output_type": "stream",
          "name": "stdout",
          "text": [
            "0       0\n",
            "1       0\n",
            "2       0\n",
            "3       0\n",
            "4       0\n",
            "       ..\n",
            "6259    3\n",
            "6260    3\n",
            "6261    3\n",
            "6262    3\n",
            "6263    3\n",
            "Name: activity, Length: 6264, dtype: int64\n"
          ]
        }
      ]
    },
    {
      "cell_type": "code",
      "source": [
        "from sklearn.model_selection import train_test_split\n",
        "X_train, X_test, y_train, y_test = train_test_split(feature, target, test_size = 0.2, random_state = 42)"
      ],
      "metadata": {
        "id": "ixaOnceBRZTv"
      },
      "execution_count": null,
      "outputs": []
    },
    {
      "cell_type": "code",
      "source": [
        "data.isnull().sum() # take summation of null values"
      ],
      "metadata": {
        "colab": {
          "base_uri": "https://localhost:8080/"
        },
        "id": "yOwFhVRtRdvq",
        "outputId": "f42db29b-1268-4d50-c5ff-fd3ada8a5e69"
      },
      "execution_count": null,
      "outputs": [
        {
          "output_type": "execute_result",
          "data": {
            "text/plain": [
              "Unnamed: 0              0\n",
              "X1                      0\n",
              "age                     0\n",
              "gender                  0\n",
              "height                  0\n",
              "weight                  0\n",
              "steps                   0\n",
              "hear_rate               0\n",
              "calories                0\n",
              "distance                0\n",
              "entropy_heart           0\n",
              "entropy_setps           0\n",
              "resting_heart           0\n",
              "corr_heart_steps        0\n",
              "norm_heart              0\n",
              "intensity_karvonen      0\n",
              "sd_norm_heart           0\n",
              "steps_times_distance    0\n",
              "device                  0\n",
              "activity                0\n",
              "dtype: int64"
            ]
          },
          "metadata": {},
          "execution_count": 32
        }
      ]
    },
    {
      "cell_type": "markdown",
      "source": [
        "--> there are no null values in the columns\n"
      ],
      "metadata": {
        "id": "kN2rL9ijRf8K"
      }
    },
    {
      "cell_type": "code",
      "source": [
        "data.describe() "
      ],
      "metadata": {
        "colab": {
          "base_uri": "https://localhost:8080/",
          "height": 364
        },
        "id": "wYi8WZ5pRkvV",
        "outputId": "d7852c04-0efa-45ee-cbd5-61df59d15eb9"
      },
      "execution_count": null,
      "outputs": [
        {
          "output_type": "execute_result",
          "data": {
            "text/plain": [
              "        Unnamed: 0           X1          age       gender       height  \\\n",
              "count  6264.000000  6264.000000  6264.000000  6264.000000  6264.000000   \n",
              "mean   3132.500000  1771.144317    29.158525     0.476533   169.709052   \n",
              "std    1808.405375  1097.988748     8.908978     0.499489    10.324698   \n",
              "min       1.000000     1.000000    18.000000     0.000000   143.000000   \n",
              "25%    1566.750000   789.750000    23.000000     0.000000   160.000000   \n",
              "50%    3132.500000  1720.000000    28.000000     0.000000   168.000000   \n",
              "75%    4698.250000  2759.250000    33.000000     1.000000   180.000000   \n",
              "max    6264.000000  3670.000000    56.000000     1.000000   191.000000   \n",
              "\n",
              "            weight        steps    hear_rate     calories     distance  \\\n",
              "count  6264.000000  6264.000000  6264.000000  6264.000000  6264.000000   \n",
              "mean     69.614464   109.562268    86.142331    19.471823    13.832555   \n",
              "std      13.451878   222.797908    28.648385    27.309765    45.941437   \n",
              "min      43.000000     1.000000     2.222222     0.056269     0.000440   \n",
              "25%      60.000000     5.159534    75.598079     0.735875     0.019135   \n",
              "50%      68.000000    10.092029    77.267680     4.000000     0.181719   \n",
              "75%      77.300000   105.847222    95.669118    20.500000    15.697188   \n",
              "max     115.000000  1714.000000   194.333333    97.500000   335.000000   \n",
              "\n",
              "       entropy_heart  entropy_setps  resting_heart  corr_heart_steps  \\\n",
              "count    6264.000000    6264.000000    6264.000000       6264.000000   \n",
              "mean        6.030314       5.739984      65.869938          0.306447   \n",
              "std         0.765574       1.256348      21.203017          0.775418   \n",
              "min         0.000000       0.000000       3.000000         -1.000000   \n",
              "25%         6.108524       5.909440      58.134333         -0.467303   \n",
              "50%         6.189825       6.157197      75.000000          0.665829   \n",
              "75%         6.247928       6.247928      76.138701          1.000000   \n",
              "max         6.475733       6.475733     155.000000          1.000000   \n",
              "\n",
              "        norm_heart  intensity_karvonen  sd_norm_heart  steps_times_distance  \n",
              "count  6264.000000         6264.000000    6264.000000           6264.000000  \n",
              "mean     20.272393            0.155479       8.110854            590.035239  \n",
              "std      28.388116            0.210927      12.535080           4063.838530  \n",
              "min     -76.000000           -2.714286       0.000000              0.000690  \n",
              "25%       1.148883            0.009819       0.264722              0.659260  \n",
              "50%       9.820254            0.079529       2.893503             13.368619  \n",
              "75%      27.077336            0.211868       9.679672             93.728562  \n",
              "max     156.319444            1.297980      74.457929          51520.000000  "
            ],
            "text/html": [
              "\n",
              "  <div id=\"df-49fd1c39-81d2-46ca-8c4e-c1013fc1efd8\">\n",
              "    <div class=\"colab-df-container\">\n",
              "      <div>\n",
              "<style scoped>\n",
              "    .dataframe tbody tr th:only-of-type {\n",
              "        vertical-align: middle;\n",
              "    }\n",
              "\n",
              "    .dataframe tbody tr th {\n",
              "        vertical-align: top;\n",
              "    }\n",
              "\n",
              "    .dataframe thead th {\n",
              "        text-align: right;\n",
              "    }\n",
              "</style>\n",
              "<table border=\"1\" class=\"dataframe\">\n",
              "  <thead>\n",
              "    <tr style=\"text-align: right;\">\n",
              "      <th></th>\n",
              "      <th>Unnamed: 0</th>\n",
              "      <th>X1</th>\n",
              "      <th>age</th>\n",
              "      <th>gender</th>\n",
              "      <th>height</th>\n",
              "      <th>weight</th>\n",
              "      <th>steps</th>\n",
              "      <th>hear_rate</th>\n",
              "      <th>calories</th>\n",
              "      <th>distance</th>\n",
              "      <th>entropy_heart</th>\n",
              "      <th>entropy_setps</th>\n",
              "      <th>resting_heart</th>\n",
              "      <th>corr_heart_steps</th>\n",
              "      <th>norm_heart</th>\n",
              "      <th>intensity_karvonen</th>\n",
              "      <th>sd_norm_heart</th>\n",
              "      <th>steps_times_distance</th>\n",
              "    </tr>\n",
              "  </thead>\n",
              "  <tbody>\n",
              "    <tr>\n",
              "      <th>count</th>\n",
              "      <td>6264.000000</td>\n",
              "      <td>6264.000000</td>\n",
              "      <td>6264.000000</td>\n",
              "      <td>6264.000000</td>\n",
              "      <td>6264.000000</td>\n",
              "      <td>6264.000000</td>\n",
              "      <td>6264.000000</td>\n",
              "      <td>6264.000000</td>\n",
              "      <td>6264.000000</td>\n",
              "      <td>6264.000000</td>\n",
              "      <td>6264.000000</td>\n",
              "      <td>6264.000000</td>\n",
              "      <td>6264.000000</td>\n",
              "      <td>6264.000000</td>\n",
              "      <td>6264.000000</td>\n",
              "      <td>6264.000000</td>\n",
              "      <td>6264.000000</td>\n",
              "      <td>6264.000000</td>\n",
              "    </tr>\n",
              "    <tr>\n",
              "      <th>mean</th>\n",
              "      <td>3132.500000</td>\n",
              "      <td>1771.144317</td>\n",
              "      <td>29.158525</td>\n",
              "      <td>0.476533</td>\n",
              "      <td>169.709052</td>\n",
              "      <td>69.614464</td>\n",
              "      <td>109.562268</td>\n",
              "      <td>86.142331</td>\n",
              "      <td>19.471823</td>\n",
              "      <td>13.832555</td>\n",
              "      <td>6.030314</td>\n",
              "      <td>5.739984</td>\n",
              "      <td>65.869938</td>\n",
              "      <td>0.306447</td>\n",
              "      <td>20.272393</td>\n",
              "      <td>0.155479</td>\n",
              "      <td>8.110854</td>\n",
              "      <td>590.035239</td>\n",
              "    </tr>\n",
              "    <tr>\n",
              "      <th>std</th>\n",
              "      <td>1808.405375</td>\n",
              "      <td>1097.988748</td>\n",
              "      <td>8.908978</td>\n",
              "      <td>0.499489</td>\n",
              "      <td>10.324698</td>\n",
              "      <td>13.451878</td>\n",
              "      <td>222.797908</td>\n",
              "      <td>28.648385</td>\n",
              "      <td>27.309765</td>\n",
              "      <td>45.941437</td>\n",
              "      <td>0.765574</td>\n",
              "      <td>1.256348</td>\n",
              "      <td>21.203017</td>\n",
              "      <td>0.775418</td>\n",
              "      <td>28.388116</td>\n",
              "      <td>0.210927</td>\n",
              "      <td>12.535080</td>\n",
              "      <td>4063.838530</td>\n",
              "    </tr>\n",
              "    <tr>\n",
              "      <th>min</th>\n",
              "      <td>1.000000</td>\n",
              "      <td>1.000000</td>\n",
              "      <td>18.000000</td>\n",
              "      <td>0.000000</td>\n",
              "      <td>143.000000</td>\n",
              "      <td>43.000000</td>\n",
              "      <td>1.000000</td>\n",
              "      <td>2.222222</td>\n",
              "      <td>0.056269</td>\n",
              "      <td>0.000440</td>\n",
              "      <td>0.000000</td>\n",
              "      <td>0.000000</td>\n",
              "      <td>3.000000</td>\n",
              "      <td>-1.000000</td>\n",
              "      <td>-76.000000</td>\n",
              "      <td>-2.714286</td>\n",
              "      <td>0.000000</td>\n",
              "      <td>0.000690</td>\n",
              "    </tr>\n",
              "    <tr>\n",
              "      <th>25%</th>\n",
              "      <td>1566.750000</td>\n",
              "      <td>789.750000</td>\n",
              "      <td>23.000000</td>\n",
              "      <td>0.000000</td>\n",
              "      <td>160.000000</td>\n",
              "      <td>60.000000</td>\n",
              "      <td>5.159534</td>\n",
              "      <td>75.598079</td>\n",
              "      <td>0.735875</td>\n",
              "      <td>0.019135</td>\n",
              "      <td>6.108524</td>\n",
              "      <td>5.909440</td>\n",
              "      <td>58.134333</td>\n",
              "      <td>-0.467303</td>\n",
              "      <td>1.148883</td>\n",
              "      <td>0.009819</td>\n",
              "      <td>0.264722</td>\n",
              "      <td>0.659260</td>\n",
              "    </tr>\n",
              "    <tr>\n",
              "      <th>50%</th>\n",
              "      <td>3132.500000</td>\n",
              "      <td>1720.000000</td>\n",
              "      <td>28.000000</td>\n",
              "      <td>0.000000</td>\n",
              "      <td>168.000000</td>\n",
              "      <td>68.000000</td>\n",
              "      <td>10.092029</td>\n",
              "      <td>77.267680</td>\n",
              "      <td>4.000000</td>\n",
              "      <td>0.181719</td>\n",
              "      <td>6.189825</td>\n",
              "      <td>6.157197</td>\n",
              "      <td>75.000000</td>\n",
              "      <td>0.665829</td>\n",
              "      <td>9.820254</td>\n",
              "      <td>0.079529</td>\n",
              "      <td>2.893503</td>\n",
              "      <td>13.368619</td>\n",
              "    </tr>\n",
              "    <tr>\n",
              "      <th>75%</th>\n",
              "      <td>4698.250000</td>\n",
              "      <td>2759.250000</td>\n",
              "      <td>33.000000</td>\n",
              "      <td>1.000000</td>\n",
              "      <td>180.000000</td>\n",
              "      <td>77.300000</td>\n",
              "      <td>105.847222</td>\n",
              "      <td>95.669118</td>\n",
              "      <td>20.500000</td>\n",
              "      <td>15.697188</td>\n",
              "      <td>6.247928</td>\n",
              "      <td>6.247928</td>\n",
              "      <td>76.138701</td>\n",
              "      <td>1.000000</td>\n",
              "      <td>27.077336</td>\n",
              "      <td>0.211868</td>\n",
              "      <td>9.679672</td>\n",
              "      <td>93.728562</td>\n",
              "    </tr>\n",
              "    <tr>\n",
              "      <th>max</th>\n",
              "      <td>6264.000000</td>\n",
              "      <td>3670.000000</td>\n",
              "      <td>56.000000</td>\n",
              "      <td>1.000000</td>\n",
              "      <td>191.000000</td>\n",
              "      <td>115.000000</td>\n",
              "      <td>1714.000000</td>\n",
              "      <td>194.333333</td>\n",
              "      <td>97.500000</td>\n",
              "      <td>335.000000</td>\n",
              "      <td>6.475733</td>\n",
              "      <td>6.475733</td>\n",
              "      <td>155.000000</td>\n",
              "      <td>1.000000</td>\n",
              "      <td>156.319444</td>\n",
              "      <td>1.297980</td>\n",
              "      <td>74.457929</td>\n",
              "      <td>51520.000000</td>\n",
              "    </tr>\n",
              "  </tbody>\n",
              "</table>\n",
              "</div>\n",
              "      <button class=\"colab-df-convert\" onclick=\"convertToInteractive('df-49fd1c39-81d2-46ca-8c4e-c1013fc1efd8')\"\n",
              "              title=\"Convert this dataframe to an interactive table.\"\n",
              "              style=\"display:none;\">\n",
              "        \n",
              "  <svg xmlns=\"http://www.w3.org/2000/svg\" height=\"24px\"viewBox=\"0 0 24 24\"\n",
              "       width=\"24px\">\n",
              "    <path d=\"M0 0h24v24H0V0z\" fill=\"none\"/>\n",
              "    <path d=\"M18.56 5.44l.94 2.06.94-2.06 2.06-.94-2.06-.94-.94-2.06-.94 2.06-2.06.94zm-11 1L8.5 8.5l.94-2.06 2.06-.94-2.06-.94L8.5 2.5l-.94 2.06-2.06.94zm10 10l.94 2.06.94-2.06 2.06-.94-2.06-.94-.94-2.06-.94 2.06-2.06.94z\"/><path d=\"M17.41 7.96l-1.37-1.37c-.4-.4-.92-.59-1.43-.59-.52 0-1.04.2-1.43.59L10.3 9.45l-7.72 7.72c-.78.78-.78 2.05 0 2.83L4 21.41c.39.39.9.59 1.41.59.51 0 1.02-.2 1.41-.59l7.78-7.78 2.81-2.81c.8-.78.8-2.07 0-2.86zM5.41 20L4 18.59l7.72-7.72 1.47 1.35L5.41 20z\"/>\n",
              "  </svg>\n",
              "      </button>\n",
              "      \n",
              "  <style>\n",
              "    .colab-df-container {\n",
              "      display:flex;\n",
              "      flex-wrap:wrap;\n",
              "      gap: 12px;\n",
              "    }\n",
              "\n",
              "    .colab-df-convert {\n",
              "      background-color: #E8F0FE;\n",
              "      border: none;\n",
              "      border-radius: 50%;\n",
              "      cursor: pointer;\n",
              "      display: none;\n",
              "      fill: #1967D2;\n",
              "      height: 32px;\n",
              "      padding: 0 0 0 0;\n",
              "      width: 32px;\n",
              "    }\n",
              "\n",
              "    .colab-df-convert:hover {\n",
              "      background-color: #E2EBFA;\n",
              "      box-shadow: 0px 1px 2px rgba(60, 64, 67, 0.3), 0px 1px 3px 1px rgba(60, 64, 67, 0.15);\n",
              "      fill: #174EA6;\n",
              "    }\n",
              "\n",
              "    [theme=dark] .colab-df-convert {\n",
              "      background-color: #3B4455;\n",
              "      fill: #D2E3FC;\n",
              "    }\n",
              "\n",
              "    [theme=dark] .colab-df-convert:hover {\n",
              "      background-color: #434B5C;\n",
              "      box-shadow: 0px 1px 3px 1px rgba(0, 0, 0, 0.15);\n",
              "      filter: drop-shadow(0px 1px 2px rgba(0, 0, 0, 0.3));\n",
              "      fill: #FFFFFF;\n",
              "    }\n",
              "  </style>\n",
              "\n",
              "      <script>\n",
              "        const buttonEl =\n",
              "          document.querySelector('#df-49fd1c39-81d2-46ca-8c4e-c1013fc1efd8 button.colab-df-convert');\n",
              "        buttonEl.style.display =\n",
              "          google.colab.kernel.accessAllowed ? 'block' : 'none';\n",
              "\n",
              "        async function convertToInteractive(key) {\n",
              "          const element = document.querySelector('#df-49fd1c39-81d2-46ca-8c4e-c1013fc1efd8');\n",
              "          const dataTable =\n",
              "            await google.colab.kernel.invokeFunction('convertToInteractive',\n",
              "                                                     [key], {});\n",
              "          if (!dataTable) return;\n",
              "\n",
              "          const docLinkHtml = 'Like what you see? Visit the ' +\n",
              "            '<a target=\"_blank\" href=https://colab.research.google.com/notebooks/data_table.ipynb>data table notebook</a>'\n",
              "            + ' to learn more about interactive tables.';\n",
              "          element.innerHTML = '';\n",
              "          dataTable['output_type'] = 'display_data';\n",
              "          await google.colab.output.renderOutput(dataTable, element);\n",
              "          const docLink = document.createElement('div');\n",
              "          docLink.innerHTML = docLinkHtml;\n",
              "          element.appendChild(docLink);\n",
              "        }\n",
              "      </script>\n",
              "    </div>\n",
              "  </div>\n",
              "  "
            ]
          },
          "metadata": {},
          "execution_count": 33
        }
      ]
    },
    {
      "cell_type": "code",
      "source": [
        "# sns.countplot(data['gender'])\n",
        "data['gender'].value_counts()"
      ],
      "metadata": {
        "colab": {
          "base_uri": "https://localhost:8080/"
        },
        "id": "_4SsuaiLRsfN",
        "outputId": "8185b67e-9ccd-485a-aa1a-a24f59ae4030"
      },
      "execution_count": null,
      "outputs": [
        {
          "output_type": "execute_result",
          "data": {
            "text/plain": [
              "0    3279\n",
              "1    2985\n",
              "Name: gender, dtype: int64"
            ]
          },
          "metadata": {},
          "execution_count": 34
        }
      ]
    },
    {
      "cell_type": "code",
      "source": [
        "data['activity'].value_counts().plot(kind='pie',autopct='%.2f')"
      ],
      "metadata": {
        "colab": {
          "base_uri": "https://localhost:8080/",
          "height": 266
        },
        "id": "ZsmlANPmRvPY",
        "outputId": "c87b3898-4059-4457-cbb6-b9a08adf5b5c"
      },
      "execution_count": null,
      "outputs": [
        {
          "output_type": "execute_result",
          "data": {
            "text/plain": [
              "<Axes: ylabel='activity'>"
            ]
          },
          "metadata": {},
          "execution_count": 35
        },
        {
          "output_type": "display_data",
          "data": {
            "text/plain": [
              "<Figure size 432x288 with 1 Axes>"
            ],
            "image/png": "[encoded data removed]"
          },
          "metadata": {}
        }
      ]
    },
    {
      "cell_type": "code",
      "source": [
        "plt.hist(data['age'],bins=10)"
      ],
      "metadata": {
        "colab": {
          "base_uri": "https://localhost:8080/",
          "height": 337
        },
        "id": "SPzQYSyyRzp6",
        "outputId": "30af9473-1894-402f-c772-d64b2882b709"
      },
      "execution_count": null,
      "outputs": [
        {
          "output_type": "execute_result",
          "data": {
            "text/plain": [
              "(array([1050., 1749.,  783., 1255.,  559.,  309.,    0.,  169.,   94.,\n",
              "         296.]),\n",
              " array([18. , 21.8, 25.6, 29.4, 33.2, 37. , 40.8, 44.6, 48.4, 52.2, 56. ]),\n",
              " <BarContainer object of 10 artists>)"
            ]
          },
          "metadata": {},
          "execution_count": 36
        },
        {
          "output_type": "display_data",
          "data": {
            "text/plain": [
              "<Figure size 432x288 with 1 Axes>"
            ],
            "image/png": "[encoded data removed]"
          },
          "metadata": {
            "needs_background": "light"
          }
        }
      ]
    },
    {
      "cell_type": "code",
      "source": [
        "sns.distplot(data['age'])"
      ],
      "metadata": {
        "colab": {
          "base_uri": "https://localhost:8080/",
          "height": 494
        },
        "id": "RumADev0R5aY",
        "outputId": "b5172ce7-6fe9-40b2-d4ac-d7f7897c05e3"
      },
      "execution_count": null,
      "outputs": [
        {
          "output_type": "stream",
          "name": "stderr",
          "text": [
            "<ipython-input-37-67f5a22b11e7>:1: UserWarning: \n",
            "\n",
            "`distplot` is a deprecated function and will be removed in seaborn v0.14.0.\n",
            "\n",
            "Please adapt your code to use either `displot` (a figure-level function with\n",
            "similar flexibility) or `histplot` (an axes-level function for histograms).\n",
            "\n",
            "For a guide to updating your code to use the new functions, please see\n",
            "https://gist.github.com/mwaskom/de44147ed2974457ad6372750bbe5751\n",
            "\n",
            "  sns.distplot(data['age'])\n"
          ]
        },
        {
          "output_type": "execute_result",
          "data": {
            "text/plain": [
              "<Axes: xlabel='age', ylabel='Density'>"
            ]
          },
          "metadata": {},
          "execution_count": 37
        },
        {
          "output_type": "display_data",
          "data": {
            "text/plain": [
              "<Figure size 432x288 with 1 Axes>"
            ],
            "image/png": "[encoded data removed]"
          },
          "metadata": {
            "needs_background": "light"
          }
        }
      ]
    },
    {
      "cell_type": "markdown",
      "source": [
        "#label encoding of target values"
      ],
      "metadata": {
        "id": "nnwEhf2ER-LA"
      }
    },
    {
      "cell_type": "code",
      "source": [
        "le=label_encode.fit(data['activity'])\n",
        "ac_data=le.transform(data['activity'])"
      ],
      "metadata": {
        "id": "JnYAfskHSBjL"
      },
      "execution_count": null,
      "outputs": []
    },
    {
      "cell_type": "code",
      "source": [
        "print(data['activity'].unique())\n",
        "data['activity']=ac_data\n",
        "print(data['activity'].unique())"
      ],
      "metadata": {
        "colab": {
          "base_uri": "https://localhost:8080/"
        },
        "id": "Ea6F5W0cRnSM",
        "outputId": "d203aad7-332e-489a-9c0b-1ec3c208d8ab"
      },
      "execution_count": null,
      "outputs": [
        {
          "output_type": "stream",
          "name": "stdout",
          "text": [
            "['Lying' 'Sitting' 'Self Pace walk' 'Running 3 METs' 'Running 5 METs'\n",
            " 'Running 7 METs']\n",
            "[0 5 4 1 2 3]\n"
          ]
        }
      ]
    },
    {
      "cell_type": "code",
      "source": [
        "target1 = df['activity'] \n",
        "feature1=df.drop(columns = 'activity')\n",
        "print(target)"
      ],
      "metadata": {
        "colab": {
          "base_uri": "https://localhost:8080/"
        },
        "id": "tI5NE-qNSJg0",
        "outputId": "66e13683-ecfe-4eee-e9d6-23c954c598ce"
      },
      "execution_count": null,
      "outputs": [
        {
          "output_type": "stream",
          "name": "stdout",
          "text": [
            "0       0\n",
            "1       0\n",
            "2       0\n",
            "3       0\n",
            "4       0\n",
            "       ..\n",
            "6259    3\n",
            "6260    3\n",
            "6261    3\n",
            "6262    3\n",
            "6263    3\n",
            "Name: activity, Length: 6264, dtype: int64\n"
          ]
        }
      ]
    },
    {
      "cell_type": "code",
      "source": [
        "data.sample()"
      ],
      "metadata": {
        "colab": {
          "base_uri": "https://localhost:8080/",
          "height": 162
        },
        "id": "btiVECgfSMB0",
        "outputId": "1cd54bd9-b4c4-4b0a-bb60-c65940a6ddf0"
      },
      "execution_count": null,
      "outputs": [
        {
          "output_type": "execute_result",
          "data": {
            "text/plain": [
              "      Unnamed: 0    X1  age  gender  height  weight     steps   hear_rate  \\\n",
              "4764        4765  1121   27       1   176.0    81.8  2.267313  140.443073   \n",
              "\n",
              "      calories  distance  entropy_heart  entropy_setps  resting_heart  \\\n",
              "4764      14.5  2.932133       6.266787       6.266787      79.278743   \n",
              "\n",
              "      corr_heart_steps  norm_heart  intensity_karvonen  sd_norm_heart  \\\n",
              "4764              -1.0    61.16433            0.537844       2.893503   \n",
              "\n",
              "      steps_times_distance  device  activity  \n",
              "4764              6.648063  fitbit         3  "
            ],
            "text/html": [
              "\n",
              "  <div id=\"df-7a48b323-0fc9-4eec-8c37-2092627ffb0d\">\n",
              "    <div class=\"colab-df-container\">\n",
              "      <div>\n",
              "<style scoped>\n",
              "    .dataframe tbody tr th:only-of-type {\n",
              "        vertical-align: middle;\n",
              "    }\n",
              "\n",
              "    .dataframe tbody tr th {\n",
              "        vertical-align: top;\n",
              "    }\n",
              "\n",
              "    .dataframe thead th {\n",
              "        text-align: right;\n",
              "    }\n",
              "</style>\n",
              "<table border=\"1\" class=\"dataframe\">\n",
              "  <thead>\n",
              "    <tr style=\"text-align: right;\">\n",
              "      <th></th>\n",
              "      <th>Unnamed: 0</th>\n",
              "      <th>X1</th>\n",
              "      <th>age</th>\n",
              "      <th>gender</th>\n",
              "      <th>height</th>\n",
              "      <th>weight</th>\n",
              "      <th>steps</th>\n",
              "      <th>hear_rate</th>\n",
              "      <th>calories</th>\n",
              "      <th>distance</th>\n",
              "      <th>entropy_heart</th>\n",
              "      <th>entropy_setps</th>\n",
              "      <th>resting_heart</th>\n",
              "      <th>corr_heart_steps</th>\n",
              "      <th>norm_heart</th>\n",
              "      <th>intensity_karvonen</th>\n",
              "      <th>sd_norm_heart</th>\n",
              "      <th>steps_times_distance</th>\n",
              "      <th>device</th>\n",
              "      <th>activity</th>\n",
              "    </tr>\n",
              "  </thead>\n",
              "  <tbody>\n",
              "    <tr>\n",
              "      <th>4764</th>\n",
              "      <td>4765</td>\n",
              "      <td>1121</td>\n",
              "      <td>27</td>\n",
              "      <td>1</td>\n",
              "      <td>176.0</td>\n",
              "      <td>81.8</td>\n",
              "      <td>2.267313</td>\n",
              "      <td>140.443073</td>\n",
              "      <td>14.5</td>\n",
              "      <td>2.932133</td>\n",
              "      <td>6.266787</td>\n",
              "      <td>6.266787</td>\n",
              "      <td>79.278743</td>\n",
              "      <td>-1.0</td>\n",
              "      <td>61.16433</td>\n",
              "      <td>0.537844</td>\n",
              "      <td>2.893503</td>\n",
              "      <td>6.648063</td>\n",
              "      <td>fitbit</td>\n",
              "      <td>3</td>\n",
              "    </tr>\n",
              "  </tbody>\n",
              "</table>\n",
              "</div>\n",
              "      <button class=\"colab-df-convert\" onclick=\"convertToInteractive('df-7a48b323-0fc9-4eec-8c37-2092627ffb0d')\"\n",
              "              title=\"Convert this dataframe to an interactive table.\"\n",
              "              style=\"display:none;\">\n",
              "        \n",
              "  <svg xmlns=\"http://www.w3.org/2000/svg\" height=\"24px\"viewBox=\"0 0 24 24\"\n",
              "       width=\"24px\">\n",
              "    <path d=\"M0 0h24v24H0V0z\" fill=\"none\"/>\n",
              "    <path d=\"M18.56 5.44l.94 2.06.94-2.06 2.06-.94-2.06-.94-.94-2.06-.94 2.06-2.06.94zm-11 1L8.5 8.5l.94-2.06 2.06-.94-2.06-.94L8.5 2.5l-.94 2.06-2.06.94zm10 10l.94 2.06.94-2.06 2.06-.94-2.06-.94-.94-2.06-.94 2.06-2.06.94z\"/><path d=\"M17.41 7.96l-1.37-1.37c-.4-.4-.92-.59-1.43-.59-.52 0-1.04.2-1.43.59L10.3 9.45l-7.72 7.72c-.78.78-.78 2.05 0 2.83L4 21.41c.39.39.9.59 1.41.59.51 0 1.02-.2 1.41-.59l7.78-7.78 2.81-2.81c.8-.78.8-2.07 0-2.86zM5.41 20L4 18.59l7.72-7.72 1.47 1.35L5.41 20z\"/>\n",
              "  </svg>\n",
              "      </button>\n",
              "      \n",
              "  <style>\n",
              "    .colab-df-container {\n",
              "      display:flex;\n",
              "      flex-wrap:wrap;\n",
              "      gap: 12px;\n",
              "    }\n",
              "\n",
              "    .colab-df-convert {\n",
              "      background-color: #E8F0FE;\n",
              "      border: none;\n",
              "      border-radius: 50%;\n",
              "      cursor: pointer;\n",
              "      display: none;\n",
              "      fill: #1967D2;\n",
              "      height: 32px;\n",
              "      padding: 0 0 0 0;\n",
              "      width: 32px;\n",
              "    }\n",
              "\n",
              "    .colab-df-convert:hover {\n",
              "      background-color: #E2EBFA;\n",
              "      box-shadow: 0px 1px 2px rgba(60, 64, 67, 0.3), 0px 1px 3px 1px rgba(60, 64, 67, 0.15);\n",
              "      fill: #174EA6;\n",
              "    }\n",
              "\n",
              "    [theme=dark] .colab-df-convert {\n",
              "      background-color: #3B4455;\n",
              "      fill: #D2E3FC;\n",
              "    }\n",
              "\n",
              "    [theme=dark] .colab-df-convert:hover {\n",
              "      background-color: #434B5C;\n",
              "      box-shadow: 0px 1px 3px 1px rgba(0, 0, 0, 0.15);\n",
              "      filter: drop-shadow(0px 1px 2px rgba(0, 0, 0, 0.3));\n",
              "      fill: #FFFFFF;\n",
              "    }\n",
              "  </style>\n",
              "\n",
              "      <script>\n",
              "        const buttonEl =\n",
              "          document.querySelector('#df-7a48b323-0fc9-4eec-8c37-2092627ffb0d button.colab-df-convert');\n",
              "        buttonEl.style.display =\n",
              "          google.colab.kernel.accessAllowed ? 'block' : 'none';\n",
              "\n",
              "        async function convertToInteractive(key) {\n",
              "          const element = document.querySelector('#df-7a48b323-0fc9-4eec-8c37-2092627ffb0d');\n",
              "          const dataTable =\n",
              "            await google.colab.kernel.invokeFunction('convertToInteractive',\n",
              "                                                     [key], {});\n",
              "          if (!dataTable) return;\n",
              "\n",
              "          const docLinkHtml = 'Like what you see? Visit the ' +\n",
              "            '<a target=\"_blank\" href=https://colab.research.google.com/notebooks/data_table.ipynb>data table notebook</a>'\n",
              "            + ' to learn more about interactive tables.';\n",
              "          element.innerHTML = '';\n",
              "          dataTable['output_type'] = 'display_data';\n",
              "          await google.colab.output.renderOutput(dataTable, element);\n",
              "          const docLink = document.createElement('div');\n",
              "          docLink.innerHTML = docLinkHtml;\n",
              "          element.appendChild(docLink);\n",
              "        }\n",
              "      </script>\n",
              "    </div>\n",
              "  </div>\n",
              "  "
            ]
          },
          "metadata": {},
          "execution_count": 41
        }
      ]
    },
    {
      "cell_type": "code",
      "source": [
        "df1= data.drop(['device'], axis=1)"
      ],
      "metadata": {
        "id": "n8U4Gx2DSXCW"
      },
      "execution_count": null,
      "outputs": []
    },
    {
      "cell_type": "code",
      "source": [
        "df1.dtypes"
      ],
      "metadata": {
        "colab": {
          "base_uri": "https://localhost:8080/"
        },
        "id": "m_I77nk1Sah4",
        "outputId": "5290c870-8ffc-4174-dd79-e74e1314eeb2"
      },
      "execution_count": null,
      "outputs": [
        {
          "output_type": "execute_result",
          "data": {
            "text/plain": [
              "Unnamed: 0                int64\n",
              "X1                        int64\n",
              "age                       int64\n",
              "gender                    int64\n",
              "height                  float64\n",
              "weight                  float64\n",
              "steps                   float64\n",
              "hear_rate               float64\n",
              "calories                float64\n",
              "distance                float64\n",
              "entropy_heart           float64\n",
              "entropy_setps           float64\n",
              "resting_heart           float64\n",
              "corr_heart_steps        float64\n",
              "norm_heart              float64\n",
              "intensity_karvonen      float64\n",
              "sd_norm_heart           float64\n",
              "steps_times_distance    float64\n",
              "activity                  int64\n",
              "dtype: object"
            ]
          },
          "metadata": {},
          "execution_count": 43
        }
      ]
    },
    {
      "cell_type": "code",
      "source": [
        "# Heatmap\n",
        "plt.figure(figsize=(16,9)) # heatmap size in ratio 16:9\n",
        "\n",
        "sns.heatmap(df1.corr(), annot = True, cmap ='coolwarm') # show heatmap\n",
        "\n",
        "plt.title(\"Heatmap of Health Care Data Correlation\", fontsize = 25) # title of heatmap *****code 5"
      ],
      "metadata": {
        "colab": {
          "base_uri": "https://localhost:8080/",
          "height": 540
        },
        "id": "_9s6F6xRSfTT",
        "outputId": "a90e7662-6c42-4e38-af3d-63cbffb40a92"
      },
      "execution_count": null,
      "outputs": [
        {
          "output_type": "execute_result",
          "data": {
            "text/plain": [
              "Text(0.5, 1.0, 'Heatmap of Health Care Data Correlation')"
            ]
          },
          "metadata": {},
          "execution_count": 44
        },
        {
          "output_type": "display_data",
          "data": {
            "text/plain": [
              "<Figure size 1152x648 with 2 Axes>"
            ],
            "image/png": "[encoded data removed]"
          },
          "metadata": {
            "needs_background": "light"
          }
        }
      ]
    },
    {
      "cell_type": "markdown",
      "source": [
        "Train-Test-Split"
      ],
      "metadata": {
        "id": "9NStoA24SzCl"
      }
    },
    {
      "cell_type": "code",
      "source": [
        "target1 = df1['activity'] \n",
        "feature1=df1.drop(columns = 'activity')\n",
        "print(target1)"
      ],
      "metadata": {
        "colab": {
          "base_uri": "https://localhost:8080/"
        },
        "id": "INvxTaDES1el",
        "outputId": "f2265965-a551-470b-e166-229798c24d16"
      },
      "execution_count": null,
      "outputs": [
        {
          "output_type": "stream",
          "name": "stdout",
          "text": [
            "0       0\n",
            "1       0\n",
            "2       0\n",
            "3       0\n",
            "4       0\n",
            "       ..\n",
            "6259    3\n",
            "6260    3\n",
            "6261    3\n",
            "6262    3\n",
            "6263    3\n",
            "Name: activity, Length: 6264, dtype: int64\n"
          ]
        }
      ]
    },
    {
      "cell_type": "code",
      "source": [
        "from sklearn.model_selection import train_test_split\n",
        "X_train1, X_test1, y_train1, y_test1 = train_test_split(feature, target, test_size = 0.2, random_state = 0)"
      ],
      "metadata": {
        "id": "3H89I0SAS5ZD"
      },
      "execution_count": null,
      "outputs": []
    },
    {
      "cell_type": "code",
      "source": [
        "X_train1"
      ],
      "metadata": {
        "colab": {
          "base_uri": "https://localhost:8080/",
          "height": 423
        },
        "id": "RdIgiawaS65G",
        "outputId": "f22d2fd5-a42b-47e1-a17a-d14bd460b4dd"
      },
      "execution_count": null,
      "outputs": [
        {
          "output_type": "execute_result",
          "data": {
            "text/plain": [
              "      height  weight       steps   calories   distance  resting_heart\n",
              "2369   163.0    61.0  117.000000   0.753500   0.051710      78.531302\n",
              "4778   160.0    75.0    1.000000   1.000000   1.000000       6.125000\n",
              "4132   180.0    79.3    4.568421  68.000000  15.751579      75.668850\n",
              "3101   152.0    48.6    5.826087   0.250667   0.004776      60.846154\n",
              "3082   152.0    48.6    5.600000   0.252000   0.003566      60.846154\n",
              "...      ...     ...         ...        ...        ...            ...\n",
              "4931   157.5    53.6    4.226835  89.000000  15.755374      75.672837\n",
              "3264   158.0    59.1    6.833333   0.246000   0.006145      84.200000\n",
              "1653   173.0    85.7  520.545455  20.033067   0.352624      71.000000\n",
              "2607   168.0    56.0   10.771429   0.344533   0.008327      72.000000\n",
              "2732   168.0    62.0  126.000000   0.756000   0.056500      56.200000\n",
              "\n",
              "[5011 rows x 6 columns]"
            ],
            "text/html": [
              "\n",
              "  <div id=\"df-b587179c-85d1-4c00-a705-2f3ac583a1f3\">\n",
              "    <div class=\"colab-df-container\">\n",
              "      <div>\n",
              "<style scoped>\n",
              "    .dataframe tbody tr th:only-of-type {\n",
              "        vertical-align: middle;\n",
              "    }\n",
              "\n",
              "    .dataframe tbody tr th {\n",
              "        vertical-align: top;\n",
              "    }\n",
              "\n",
              "    .dataframe thead th {\n",
              "        text-align: right;\n",
              "    }\n",
              "</style>\n",
              "<table border=\"1\" class=\"dataframe\">\n",
              "  <thead>\n",
              "    <tr style=\"text-align: right;\">\n",
              "      <th></th>\n",
              "      <th>height</th>\n",
              "      <th>weight</th>\n",
              "      <th>steps</th>\n",
              "      <th>calories</th>\n",
              "      <th>distance</th>\n",
              "      <th>resting_heart</th>\n",
              "    </tr>\n",
              "  </thead>\n",
              "  <tbody>\n",
              "    <tr>\n",
              "      <th>2369</th>\n",
              "      <td>163.0</td>\n",
              "      <td>61.0</td>\n",
              "      <td>117.000000</td>\n",
              "      <td>0.753500</td>\n",
              "      <td>0.051710</td>\n",
              "      <td>78.531302</td>\n",
              "    </tr>\n",
              "    <tr>\n",
              "      <th>4778</th>\n",
              "      <td>160.0</td>\n",
              "      <td>75.0</td>\n",
              "      <td>1.000000</td>\n",
              "      <td>1.000000</td>\n",
              "      <td>1.000000</td>\n",
              "      <td>6.125000</td>\n",
              "    </tr>\n",
              "    <tr>\n",
              "      <th>4132</th>\n",
              "      <td>180.0</td>\n",
              "      <td>79.3</td>\n",
              "      <td>4.568421</td>\n",
              "      <td>68.000000</td>\n",
              "      <td>15.751579</td>\n",
              "      <td>75.668850</td>\n",
              "    </tr>\n",
              "    <tr>\n",
              "      <th>3101</th>\n",
              "      <td>152.0</td>\n",
              "      <td>48.6</td>\n",
              "      <td>5.826087</td>\n",
              "      <td>0.250667</td>\n",
              "      <td>0.004776</td>\n",
              "      <td>60.846154</td>\n",
              "    </tr>\n",
              "    <tr>\n",
              "      <th>3082</th>\n",
              "      <td>152.0</td>\n",
              "      <td>48.6</td>\n",
              "      <td>5.600000</td>\n",
              "      <td>0.252000</td>\n",
              "      <td>0.003566</td>\n",
              "      <td>60.846154</td>\n",
              "    </tr>\n",
              "    <tr>\n",
              "      <th>...</th>\n",
              "      <td>...</td>\n",
              "      <td>...</td>\n",
              "      <td>...</td>\n",
              "      <td>...</td>\n",
              "      <td>...</td>\n",
              "      <td>...</td>\n",
              "    </tr>\n",
              "    <tr>\n",
              "      <th>4931</th>\n",
              "      <td>157.5</td>\n",
              "      <td>53.6</td>\n",
              "      <td>4.226835</td>\n",
              "      <td>89.000000</td>\n",
              "      <td>15.755374</td>\n",
              "      <td>75.672837</td>\n",
              "    </tr>\n",
              "    <tr>\n",
              "      <th>3264</th>\n",
              "      <td>158.0</td>\n",
              "      <td>59.1</td>\n",
              "      <td>6.833333</td>\n",
              "      <td>0.246000</td>\n",
              "      <td>0.006145</td>\n",
              "      <td>84.200000</td>\n",
              "    </tr>\n",
              "    <tr>\n",
              "      <th>1653</th>\n",
              "      <td>173.0</td>\n",
              "      <td>85.7</td>\n",
              "      <td>520.545455</td>\n",
              "      <td>20.033067</td>\n",
              "      <td>0.352624</td>\n",
              "      <td>71.000000</td>\n",
              "    </tr>\n",
              "    <tr>\n",
              "      <th>2607</th>\n",
              "      <td>168.0</td>\n",
              "      <td>56.0</td>\n",
              "      <td>10.771429</td>\n",
              "      <td>0.344533</td>\n",
              "      <td>0.008327</td>\n",
              "      <td>72.000000</td>\n",
              "    </tr>\n",
              "    <tr>\n",
              "      <th>2732</th>\n",
              "      <td>168.0</td>\n",
              "      <td>62.0</td>\n",
              "      <td>126.000000</td>\n",
              "      <td>0.756000</td>\n",
              "      <td>0.056500</td>\n",
              "      <td>56.200000</td>\n",
              "    </tr>\n",
              "  </tbody>\n",
              "</table>\n",
              "<p>5011 rows × 6 columns</p>\n",
              "</div>\n",
              "      <button class=\"colab-df-convert\" onclick=\"convertToInteractive('df-b587179c-85d1-4c00-a705-2f3ac583a1f3')\"\n",
              "              title=\"Convert this dataframe to an interactive table.\"\n",
              "              style=\"display:none;\">\n",
              "        \n",
              "  <svg xmlns=\"http://www.w3.org/2000/svg\" height=\"24px\"viewBox=\"0 0 24 24\"\n",
              "       width=\"24px\">\n",
              "    <path d=\"M0 0h24v24H0V0z\" fill=\"none\"/>\n",
              "    <path d=\"M18.56 5.44l.94 2.06.94-2.06 2.06-.94-2.06-.94-.94-2.06-.94 2.06-2.06.94zm-11 1L8.5 8.5l.94-2.06 2.06-.94-2.06-.94L8.5 2.5l-.94 2.06-2.06.94zm10 10l.94 2.06.94-2.06 2.06-.94-2.06-.94-.94-2.06-.94 2.06-2.06.94z\"/><path d=\"M17.41 7.96l-1.37-1.37c-.4-.4-.92-.59-1.43-.59-.52 0-1.04.2-1.43.59L10.3 9.45l-7.72 7.72c-.78.78-.78 2.05 0 2.83L4 21.41c.39.39.9.59 1.41.59.51 0 1.02-.2 1.41-.59l7.78-7.78 2.81-2.81c.8-.78.8-2.07 0-2.86zM5.41 20L4 18.59l7.72-7.72 1.47 1.35L5.41 20z\"/>\n",
              "  </svg>\n",
              "      </button>\n",
              "      \n",
              "  <style>\n",
              "    .colab-df-container {\n",
              "      display:flex;\n",
              "      flex-wrap:wrap;\n",
              "      gap: 12px;\n",
              "    }\n",
              "\n",
              "    .colab-df-convert {\n",
              "      background-color: #E8F0FE;\n",
              "      border: none;\n",
              "      border-radius: 50%;\n",
              "      cursor: pointer;\n",
              "      display: none;\n",
              "      fill: #1967D2;\n",
              "      height: 32px;\n",
              "      padding: 0 0 0 0;\n",
              "      width: 32px;\n",
              "    }\n",
              "\n",
              "    .colab-df-convert:hover {\n",
              "      background-color: #E2EBFA;\n",
              "      box-shadow: 0px 1px 2px rgba(60, 64, 67, 0.3), 0px 1px 3px 1px rgba(60, 64, 67, 0.15);\n",
              "      fill: #174EA6;\n",
              "    }\n",
              "\n",
              "    [theme=dark] .colab-df-convert {\n",
              "      background-color: #3B4455;\n",
              "      fill: #D2E3FC;\n",
              "    }\n",
              "\n",
              "    [theme=dark] .colab-df-convert:hover {\n",
              "      background-color: #434B5C;\n",
              "      box-shadow: 0px 1px 3px 1px rgba(0, 0, 0, 0.15);\n",
              "      filter: drop-shadow(0px 1px 2px rgba(0, 0, 0, 0.3));\n",
              "      fill: #FFFFFF;\n",
              "    }\n",
              "  </style>\n",
              "\n",
              "      <script>\n",
              "        const buttonEl =\n",
              "          document.querySelector('#df-b587179c-85d1-4c00-a705-2f3ac583a1f3 button.colab-df-convert');\n",
              "        buttonEl.style.display =\n",
              "          google.colab.kernel.accessAllowed ? 'block' : 'none';\n",
              "\n",
              "        async function convertToInteractive(key) {\n",
              "          const element = document.querySelector('#df-b587179c-85d1-4c00-a705-2f3ac583a1f3');\n",
              "          const dataTable =\n",
              "            await google.colab.kernel.invokeFunction('convertToInteractive',\n",
              "                                                     [key], {});\n",
              "          if (!dataTable) return;\n",
              "\n",
              "          const docLinkHtml = 'Like what you see? Visit the ' +\n",
              "            '<a target=\"_blank\" href=https://colab.research.google.com/notebooks/data_table.ipynb>data table notebook</a>'\n",
              "            + ' to learn more about interactive tables.';\n",
              "          element.innerHTML = '';\n",
              "          dataTable['output_type'] = 'display_data';\n",
              "          await google.colab.output.renderOutput(dataTable, element);\n",
              "          const docLink = document.createElement('div');\n",
              "          docLink.innerHTML = docLinkHtml;\n",
              "          element.appendChild(docLink);\n",
              "        }\n",
              "      </script>\n",
              "    </div>\n",
              "  </div>\n",
              "  "
            ]
          },
          "metadata": {},
          "execution_count": 47
        }
      ]
    },
    {
      "cell_type": "code",
      "source": [
        "print('Shape of X_train = ', X_train.shape)\n",
        "print('Shape of X_test = ', X_test.shape)\n",
        "print('Shape of y_train = ', y_train.shape)\n",
        "print('Shape of y_test = ', y_test.shape)\n"
      ],
      "metadata": {
        "colab": {
          "base_uri": "https://localhost:8080/"
        },
        "id": "nE2ggtLYS_R4",
        "outputId": "8bd3530c-3131-4d97-97ea-1c7a9df72d03"
      },
      "execution_count": null,
      "outputs": [
        {
          "output_type": "stream",
          "name": "stdout",
          "text": [
            "Shape of X_train =  (5011, 6)\n",
            "Shape of X_test =  (1253, 6)\n",
            "Shape of y_train =  (5011,)\n",
            "Shape of y_test =  (1253,)\n"
          ]
        }
      ]
    },
    {
      "cell_type": "code",
      "source": [
        "a=X_test.iloc[:1,:]\n",
        "arr = a.to_numpy()\n",
        "arr"
      ],
      "metadata": {
        "colab": {
          "base_uri": "https://localhost:8080/"
        },
        "id": "IINTbP7UTCzm",
        "outputId": "916306da-b004-45c0-e574-7333161ce687"
      },
      "execution_count": null,
      "outputs": [
        {
          "output_type": "execute_result",
          "data": {
            "text/plain": [
              "array([[1.84000000e+02, 7.73000000e+01, 2.24385714e+02, 1.72000000e-01,\n",
              "        2.28568571e-01, 7.61387008e+01]])"
            ]
          },
          "metadata": {},
          "execution_count": 49
        }
      ]
    },
    {
      "cell_type": "markdown",
      "source": [
        "Scaling the values\n"
      ],
      "metadata": {
        "id": "KvQNNFqmTIA8"
      }
    },
    {
      "cell_type": "code",
      "source": [
        "from sklearn.preprocessing import StandardScaler\n",
        "sc = StandardScaler()\n",
        "X_train_sc = sc.fit_transform(X_train)\n",
        "X_test_sc = sc.transform(X_test)\n",
        "X_test_sc"
      ],
      "metadata": {
        "colab": {
          "base_uri": "https://localhost:8080/"
        },
        "id": "9u-GIBJLTLR8",
        "outputId": "5d256657-e634-470d-d100-40961954bfcb"
      },
      "execution_count": null,
      "outputs": [
        {
          "output_type": "execute_result",
          "data": {
            "text/plain": [
              "array([[ 1.39149821,  0.5734763 ,  0.51479521, -0.70430953, -0.29762687,\n",
              "         0.48095771],\n",
              "       [-1.17327212,  0.13422674,  0.04180606, -0.68314533, -0.30153097,\n",
              "         0.63587959],\n",
              "       [ 1.29471442, -0.290133  , -0.47291633,  2.15242241,  0.03643096,\n",
              "         0.45865804],\n",
              "       ...,\n",
              "       [-0.93131265,  0.46924759, -0.41449136, -0.70117476, -0.30222408,\n",
              "         0.00253504],\n",
              "       [-1.02809644, -1.08673813,  0.25275012, -0.68381577, -0.30091248,\n",
              "         0.69249164],\n",
              "       [ 1.10114685,  1.90611479, -0.44843539, -0.67430276,  0.03512694,\n",
              "         0.45869974]])"
            ]
          },
          "metadata": {},
          "execution_count": 50
        }
      ]
    },
    {
      "cell_type": "markdown",
      "source": [
        "Decision tree classifier\n"
      ],
      "metadata": {
        "id": "Tzl0nXugTSjp"
      }
    },
    {
      "cell_type": "code",
      "source": [
        "# Decision Tree Classifier\n",
        "from sklearn.tree import DecisionTreeClassifier\n",
        "dt_model = DecisionTreeClassifier(criterion= 'entropy', random_state=42)\n",
        "dt_model.fit(X_train, y_train)\n",
        "y_pred_dt = dt_model.predict(X_test)"
      ],
      "metadata": {
        "id": "cjJc8aCcTPRa"
      },
      "execution_count": null,
      "outputs": []
    },
    {
      "cell_type": "code",
      "source": [
        "  # accuracy_score(y_test, y_pred_dt)"
      ],
      "metadata": {
        "colab": {
          "base_uri": "https://localhost:8080/",
          "height": 169
        },
        "id": "EOmH7GyMTdWQ",
        "outputId": "02033d1e-dde5-4423-e096-eca4cc159124"
      },
      "execution_count": null,
      "outputs": [
        {
          "output_type": "error",
          "ename": "NameError",
          "evalue": "ignored",
          "traceback": [
            "\u001b[0;31m---------------------------------------------------------------------------\u001b[0m",
            "\u001b[0;31mNameError\u001b[0m                                 Traceback (most recent call last)",
            "\u001b[0;32m<ipython-input-53-cb2f14f54350>\u001b[0m in \u001b[0;36m<module>\u001b[0;34m\u001b[0m\n\u001b[0;32m----> 1\u001b[0;31m \u001b[0maccuracy_score\u001b[0m\u001b[0;34m(\u001b[0m\u001b[0my_test\u001b[0m\u001b[0;34m,\u001b[0m \u001b[0my_pred_dt\u001b[0m\u001b[0;34m)\u001b[0m\u001b[0;34m\u001b[0m\u001b[0;34m\u001b[0m\u001b[0m\n\u001b[0m",
            "\u001b[0;31mNameError\u001b[0m: name 'accuracy_score' is not defined"
          ]
        }
      ]
    },
    {
      "cell_type": "code",
      "source": [
        "from sklearn.metrics import accuracy_score"
      ],
      "metadata": {
        "id": "hhHOmY-_T7rm"
      },
      "execution_count": null,
      "outputs": []
    },
    {
      "cell_type": "code",
      "source": [
        "# XGBoost Classifier\n",
        "from xgboost import XGBClassifier\n",
        "xgb_model = XGBClassifier()\n",
        "xgb_model.fit(X_train, y_train)\n",
        "y_pred_xgb = xgb_model.predict(X_test)\n",
        "\n",
        "accuracy_score(y_test, y_pred_xgb)"
      ],
      "metadata": {
        "colab": {
          "base_uri": "https://localhost:8080/"
        },
        "id": "EBkEK-ZuTyfu",
        "outputId": "023ae7c3-3a3a-4b59-cb61-7967b4264b5e"
      },
      "execution_count": null,
      "outputs": [
        {
          "output_type": "execute_result",
          "data": {
            "text/plain": [
              "0.767757382282522"
            ]
          },
          "metadata": {},
          "execution_count": 56
        }
      ]
    },
    {
      "cell_type": "code",
      "source": [
        "# Pickle\n",
        "import pickle\n",
        "\n",
        "# save model\n",
        "pickle.dump(xgb_model , open('Health_Care_Model1.pickle', 'wb'))\n",
        "\n",
        "# load model\n",
        "ml_model_pl = pickle.load(open('Health_Care_Model1.pickle', 'rb'))\n",
        "\n",
        "# predict the output\n",
        "y_pred_pl = ml_model_pl.predict(X_test)\n",
        "\n",
        "# confusion matrix\n",
        "# cm_pl = confusion_matrix(y_test, y_pred_pl)\n",
        "# print('Confussion matrix = \\n', cm_pl)\n",
        "\n",
        "# show the accuracy\n",
        "print(\"Accuracy of model = \",accuracy_score(y_test, y_pred_pl))"
      ],
      "metadata": {
        "colab": {
          "base_uri": "https://localhost:8080/"
        },
        "id": "E_gcQTg9UBdB",
        "outputId": "841bf79a-f786-4942-c7a9-824ee2a7dead"
      },
      "execution_count": null,
      "outputs": [
        {
          "output_type": "stream",
          "name": "stdout",
          "text": [
            "Accuracy of model =  0.767757382282522\n"
          ]
        }
      ]
    },
    {
      "cell_type": "code",
      "source": [
        "X_test.head(1)"
      ],
      "metadata": {
        "colab": {
          "base_uri": "https://localhost:8080/",
          "height": 80
        },
        "id": "O2uNwvV2UZ37",
        "outputId": "b5911df0-9301-4e31-b151-d9529f529891"
      },
      "execution_count": null,
      "outputs": [
        {
          "output_type": "execute_result",
          "data": {
            "text/plain": [
              "      height  weight       steps  calories  distance  resting_heart\n",
              "2304   184.0    77.3  224.385714     0.172  0.228569      76.138701"
            ],
            "text/html": [
              "\n",
              "  <div id=\"df-4e1e4705-909a-4406-b403-8cc95e46641f\">\n",
              "    <div class=\"colab-df-container\">\n",
              "      <div>\n",
              "<style scoped>\n",
              "    .dataframe tbody tr th:only-of-type {\n",
              "        vertical-align: middle;\n",
              "    }\n",
              "\n",
              "    .dataframe tbody tr th {\n",
              "        vertical-align: top;\n",
              "    }\n",
              "\n",
              "    .dataframe thead th {\n",
              "        text-align: right;\n",
              "    }\n",
              "</style>\n",
              "<table border=\"1\" class=\"dataframe\">\n",
              "  <thead>\n",
              "    <tr style=\"text-align: right;\">\n",
              "      <th></th>\n",
              "      <th>height</th>\n",
              "      <th>weight</th>\n",
              "      <th>steps</th>\n",
              "      <th>calories</th>\n",
              "      <th>distance</th>\n",
              "      <th>resting_heart</th>\n",
              "    </tr>\n",
              "  </thead>\n",
              "  <tbody>\n",
              "    <tr>\n",
              "      <th>2304</th>\n",
              "      <td>184.0</td>\n",
              "      <td>77.3</td>\n",
              "      <td>224.385714</td>\n",
              "      <td>0.172</td>\n",
              "      <td>0.228569</td>\n",
              "      <td>76.138701</td>\n",
              "    </tr>\n",
              "  </tbody>\n",
              "</table>\n",
              "</div>\n",
              "      <button class=\"colab-df-convert\" onclick=\"convertToInteractive('df-4e1e4705-909a-4406-b403-8cc95e46641f')\"\n",
              "              title=\"Convert this dataframe to an interactive table.\"\n",
              "              style=\"display:none;\">\n",
              "        \n",
              "  <svg xmlns=\"http://www.w3.org/2000/svg\" height=\"24px\"viewBox=\"0 0 24 24\"\n",
              "       width=\"24px\">\n",
              "    <path d=\"M0 0h24v24H0V0z\" fill=\"none\"/>\n",
              "    <path d=\"M18.56 5.44l.94 2.06.94-2.06 2.06-.94-2.06-.94-.94-2.06-.94 2.06-2.06.94zm-11 1L8.5 8.5l.94-2.06 2.06-.94-2.06-.94L8.5 2.5l-.94 2.06-2.06.94zm10 10l.94 2.06.94-2.06 2.06-.94-2.06-.94-.94-2.06-.94 2.06-2.06.94z\"/><path d=\"M17.41 7.96l-1.37-1.37c-.4-.4-.92-.59-1.43-.59-.52 0-1.04.2-1.43.59L10.3 9.45l-7.72 7.72c-.78.78-.78 2.05 0 2.83L4 21.41c.39.39.9.59 1.41.59.51 0 1.02-.2 1.41-.59l7.78-7.78 2.81-2.81c.8-.78.8-2.07 0-2.86zM5.41 20L4 18.59l7.72-7.72 1.47 1.35L5.41 20z\"/>\n",
              "  </svg>\n",
              "      </button>\n",
              "      \n",
              "  <style>\n",
              "    .colab-df-container {\n",
              "      display:flex;\n",
              "      flex-wrap:wrap;\n",
              "      gap: 12px;\n",
              "    }\n",
              "\n",
              "    .colab-df-convert {\n",
              "      background-color: #E8F0FE;\n",
              "      border: none;\n",
              "      border-radius: 50%;\n",
              "      cursor: pointer;\n",
              "      display: none;\n",
              "      fill: #1967D2;\n",
              "      height: 32px;\n",
              "      padding: 0 0 0 0;\n",
              "      width: 32px;\n",
              "    }\n",
              "\n",
              "    .colab-df-convert:hover {\n",
              "      background-color: #E2EBFA;\n",
              "      box-shadow: 0px 1px 2px rgba(60, 64, 67, 0.3), 0px 1px 3px 1px rgba(60, 64, 67, 0.15);\n",
              "      fill: #174EA6;\n",
              "    }\n",
              "\n",
              "    [theme=dark] .colab-df-convert {\n",
              "      background-color: #3B4455;\n",
              "      fill: #D2E3FC;\n",
              "    }\n",
              "\n",
              "    [theme=dark] .colab-df-convert:hover {\n",
              "      background-color: #434B5C;\n",
              "      box-shadow: 0px 1px 3px 1px rgba(0, 0, 0, 0.15);\n",
              "      filter: drop-shadow(0px 1px 2px rgba(0, 0, 0, 0.3));\n",
              "      fill: #FFFFFF;\n",
              "    }\n",
              "  </style>\n",
              "\n",
              "      <script>\n",
              "        const buttonEl =\n",
              "          document.querySelector('#df-4e1e4705-909a-4406-b403-8cc95e46641f button.colab-df-convert');\n",
              "        buttonEl.style.display =\n",
              "          google.colab.kernel.accessAllowed ? 'block' : 'none';\n",
              "\n",
              "        async function convertToInteractive(key) {\n",
              "          const element = document.querySelector('#df-4e1e4705-909a-4406-b403-8cc95e46641f');\n",
              "          const dataTable =\n",
              "            await google.colab.kernel.invokeFunction('convertToInteractive',\n",
              "                                                     [key], {});\n",
              "          if (!dataTable) return;\n",
              "\n",
              "          const docLinkHtml = 'Like what you see? Visit the ' +\n",
              "            '<a target=\"_blank\" href=https://colab.research.google.com/notebooks/data_table.ipynb>data table notebook</a>'\n",
              "            + ' to learn more about interactive tables.';\n",
              "          element.innerHTML = '';\n",
              "          dataTable['output_type'] = 'display_data';\n",
              "          await google.colab.output.renderOutput(dataTable, element);\n",
              "          const docLink = document.createElement('div');\n",
              "          docLink.innerHTML = docLinkHtml;\n",
              "          element.appendChild(docLink);\n",
              "        }\n",
              "      </script>\n",
              "    </div>\n",
              "  </div>\n",
              "  "
            ]
          },
          "metadata": {},
          "execution_count": 75
        }
      ]
    },
    {
      "cell_type": "code",
      "source": [
        "X_test"
      ],
      "metadata": {
        "colab": {
          "base_uri": "https://localhost:8080/",
          "height": 423
        },
        "id": "X-lpDh2CUsVA",
        "outputId": "f493159f-3d2b-4e30-8f54-b6b996ea8d3a"
      },
      "execution_count": null,
      "outputs": [
        {
          "output_type": "execute_result",
          "data": {
            "text/plain": [
              "      height  weight       steps   calories   distance  resting_heart\n",
              "2304   184.0    77.3  224.385714   0.172000   0.228569      76.138701\n",
              "3621   157.5    71.4  119.000000   0.756000   0.047120      79.421795\n",
              "4671   183.0    65.7    4.315789  79.000000  15.754386      75.666128\n",
              "2707   168.0    62.0  609.200000  20.752091   0.425868      56.200000\n",
              "2596   168.0    68.0    6.416667   0.246500   0.005880      64.866667\n",
              "...      ...     ...         ...        ...        ...            ...\n",
              "1611   191.0   105.7  441.250000   0.839500   0.412260      66.000000\n",
              "6009   163.7    60.5    4.568421   1.000000  15.751579      75.668850\n",
              "952    160.0    75.9   17.333333   0.258500   0.014907      66.000000\n",
              "3573   159.0    55.0  166.000000   0.737500   0.075865      80.621513\n",
              "4013   181.0    95.2    9.770335   1.000000  15.693780      75.667011\n",
              "\n",
              "[1253 rows x 6 columns]"
            ],
            "text/html": [
              "\n",
              "  <div id=\"df-f9a43684-3c7c-4880-ad80-7fddcdccc05a\">\n",
              "    <div class=\"colab-df-container\">\n",
              "      <div>\n",
              "<style scoped>\n",
              "    .dataframe tbody tr th:only-of-type {\n",
              "        vertical-align: middle;\n",
              "    }\n",
              "\n",
              "    .dataframe tbody tr th {\n",
              "        vertical-align: top;\n",
              "    }\n",
              "\n",
              "    .dataframe thead th {\n",
              "        text-align: right;\n",
              "    }\n",
              "</style>\n",
              "<table border=\"1\" class=\"dataframe\">\n",
              "  <thead>\n",
              "    <tr style=\"text-align: right;\">\n",
              "      <th></th>\n",
              "      <th>height</th>\n",
              "      <th>weight</th>\n",
              "      <th>steps</th>\n",
              "      <th>calories</th>\n",
              "      <th>distance</th>\n",
              "      <th>resting_heart</th>\n",
              "    </tr>\n",
              "  </thead>\n",
              "  <tbody>\n",
              "    <tr>\n",
              "      <th>2304</th>\n",
              "      <td>184.0</td>\n",
              "      <td>77.3</td>\n",
              "      <td>224.385714</td>\n",
              "      <td>0.172000</td>\n",
              "      <td>0.228569</td>\n",
              "      <td>76.138701</td>\n",
              "    </tr>\n",
              "    <tr>\n",
              "      <th>3621</th>\n",
              "      <td>157.5</td>\n",
              "      <td>71.4</td>\n",
              "      <td>119.000000</td>\n",
              "      <td>0.756000</td>\n",
              "      <td>0.047120</td>\n",
              "      <td>79.421795</td>\n",
              "    </tr>\n",
              "    <tr>\n",
              "      <th>4671</th>\n",
              "      <td>183.0</td>\n",
              "      <td>65.7</td>\n",
              "      <td>4.315789</td>\n",
              "      <td>79.000000</td>\n",
              "      <td>15.754386</td>\n",
              "      <td>75.666128</td>\n",
              "    </tr>\n",
              "    <tr>\n",
              "      <th>2707</th>\n",
              "      <td>168.0</td>\n",
              "      <td>62.0</td>\n",
              "      <td>609.200000</td>\n",
              "      <td>20.752091</td>\n",
              "      <td>0.425868</td>\n",
              "      <td>56.200000</td>\n",
              "    </tr>\n",
              "    <tr>\n",
              "      <th>2596</th>\n",
              "      <td>168.0</td>\n",
              "      <td>68.0</td>\n",
              "      <td>6.416667</td>\n",
              "      <td>0.246500</td>\n",
              "      <td>0.005880</td>\n",
              "      <td>64.866667</td>\n",
              "    </tr>\n",
              "    <tr>\n",
              "      <th>...</th>\n",
              "      <td>...</td>\n",
              "      <td>...</td>\n",
              "      <td>...</td>\n",
              "      <td>...</td>\n",
              "      <td>...</td>\n",
              "      <td>...</td>\n",
              "    </tr>\n",
              "    <tr>\n",
              "      <th>1611</th>\n",
              "      <td>191.0</td>\n",
              "      <td>105.7</td>\n",
              "      <td>441.250000</td>\n",
              "      <td>0.839500</td>\n",
              "      <td>0.412260</td>\n",
              "      <td>66.000000</td>\n",
              "    </tr>\n",
              "    <tr>\n",
              "      <th>6009</th>\n",
              "      <td>163.7</td>\n",
              "      <td>60.5</td>\n",
              "      <td>4.568421</td>\n",
              "      <td>1.000000</td>\n",
              "      <td>15.751579</td>\n",
              "      <td>75.668850</td>\n",
              "    </tr>\n",
              "    <tr>\n",
              "      <th>952</th>\n",
              "      <td>160.0</td>\n",
              "      <td>75.9</td>\n",
              "      <td>17.333333</td>\n",
              "      <td>0.258500</td>\n",
              "      <td>0.014907</td>\n",
              "      <td>66.000000</td>\n",
              "    </tr>\n",
              "    <tr>\n",
              "      <th>3573</th>\n",
              "      <td>159.0</td>\n",
              "      <td>55.0</td>\n",
              "      <td>166.000000</td>\n",
              "      <td>0.737500</td>\n",
              "      <td>0.075865</td>\n",
              "      <td>80.621513</td>\n",
              "    </tr>\n",
              "    <tr>\n",
              "      <th>4013</th>\n",
              "      <td>181.0</td>\n",
              "      <td>95.2</td>\n",
              "      <td>9.770335</td>\n",
              "      <td>1.000000</td>\n",
              "      <td>15.693780</td>\n",
              "      <td>75.667011</td>\n",
              "    </tr>\n",
              "  </tbody>\n",
              "</table>\n",
              "<p>1253 rows × 6 columns</p>\n",
              "</div>\n",
              "      <button class=\"colab-df-convert\" onclick=\"convertToInteractive('df-f9a43684-3c7c-4880-ad80-7fddcdccc05a')\"\n",
              "              title=\"Convert this dataframe to an interactive table.\"\n",
              "              style=\"display:none;\">\n",
              "        \n",
              "  <svg xmlns=\"http://www.w3.org/2000/svg\" height=\"24px\"viewBox=\"0 0 24 24\"\n",
              "       width=\"24px\">\n",
              "    <path d=\"M0 0h24v24H0V0z\" fill=\"none\"/>\n",
              "    <path d=\"M18.56 5.44l.94 2.06.94-2.06 2.06-.94-2.06-.94-.94-2.06-.94 2.06-2.06.94zm-11 1L8.5 8.5l.94-2.06 2.06-.94-2.06-.94L8.5 2.5l-.94 2.06-2.06.94zm10 10l.94 2.06.94-2.06 2.06-.94-2.06-.94-.94-2.06-.94 2.06-2.06.94z\"/><path d=\"M17.41 7.96l-1.37-1.37c-.4-.4-.92-.59-1.43-.59-.52 0-1.04.2-1.43.59L10.3 9.45l-7.72 7.72c-.78.78-.78 2.05 0 2.83L4 21.41c.39.39.9.59 1.41.59.51 0 1.02-.2 1.41-.59l7.78-7.78 2.81-2.81c.8-.78.8-2.07 0-2.86zM5.41 20L4 18.59l7.72-7.72 1.47 1.35L5.41 20z\"/>\n",
              "  </svg>\n",
              "      </button>\n",
              "      \n",
              "  <style>\n",
              "    .colab-df-container {\n",
              "      display:flex;\n",
              "      flex-wrap:wrap;\n",
              "      gap: 12px;\n",
              "    }\n",
              "\n",
              "    .colab-df-convert {\n",
              "      background-color: #E8F0FE;\n",
              "      border: none;\n",
              "      border-radius: 50%;\n",
              "      cursor: pointer;\n",
              "      display: none;\n",
              "      fill: #1967D2;\n",
              "      height: 32px;\n",
              "      padding: 0 0 0 0;\n",
              "      width: 32px;\n",
              "    }\n",
              "\n",
              "    .colab-df-convert:hover {\n",
              "      background-color: #E2EBFA;\n",
              "      box-shadow: 0px 1px 2px rgba(60, 64, 67, 0.3), 0px 1px 3px 1px rgba(60, 64, 67, 0.15);\n",
              "      fill: #174EA6;\n",
              "    }\n",
              "\n",
              "    [theme=dark] .colab-df-convert {\n",
              "      background-color: #3B4455;\n",
              "      fill: #D2E3FC;\n",
              "    }\n",
              "\n",
              "    [theme=dark] .colab-df-convert:hover {\n",
              "      background-color: #434B5C;\n",
              "      box-shadow: 0px 1px 3px 1px rgba(0, 0, 0, 0.15);\n",
              "      filter: drop-shadow(0px 1px 2px rgba(0, 0, 0, 0.3));\n",
              "      fill: #FFFFFF;\n",
              "    }\n",
              "  </style>\n",
              "\n",
              "      <script>\n",
              "        const buttonEl =\n",
              "          document.querySelector('#df-f9a43684-3c7c-4880-ad80-7fddcdccc05a button.colab-df-convert');\n",
              "        buttonEl.style.display =\n",
              "          google.colab.kernel.accessAllowed ? 'block' : 'none';\n",
              "\n",
              "        async function convertToInteractive(key) {\n",
              "          const element = document.querySelector('#df-f9a43684-3c7c-4880-ad80-7fddcdccc05a');\n",
              "          const dataTable =\n",
              "            await google.colab.kernel.invokeFunction('convertToInteractive',\n",
              "                                                     [key], {});\n",
              "          if (!dataTable) return;\n",
              "\n",
              "          const docLinkHtml = 'Like what you see? Visit the ' +\n",
              "            '<a target=\"_blank\" href=https://colab.research.google.com/notebooks/data_table.ipynb>data table notebook</a>'\n",
              "            + ' to learn more about interactive tables.';\n",
              "          element.innerHTML = '';\n",
              "          dataTable['output_type'] = 'display_data';\n",
              "          await google.colab.output.renderOutput(dataTable, element);\n",
              "          const docLink = document.createElement('div');\n",
              "          docLink.innerHTML = docLinkHtml;\n",
              "          element.appendChild(docLink);\n",
              "        }\n",
              "      </script>\n",
              "    </div>\n",
              "  </div>\n",
              "  "
            ]
          },
          "metadata": {},
          "execution_count": 95
        }
      ]
    },
    {
      "cell_type": "code",
      "source": [
        "x=np.array([[168.0,65.4,10.771429,0.344533,0.008327,59.0]])"
      ],
      "metadata": {
        "id": "OsvwpAPVU09V"
      },
      "execution_count": null,
      "outputs": []
    },
    {
      "cell_type": "code",
      "source": [
        "pred=ml_model_pl.predict(x)"
      ],
      "metadata": {
        "id": "aTy2XKTgUOJ4"
      },
      "execution_count": null,
      "outputs": []
    },
    {
      "cell_type": "code",
      "source": [
        "le1.classes_"
      ],
      "metadata": {
        "colab": {
          "base_uri": "https://localhost:8080/"
        },
        "id": "xjmVlYmygSE1",
        "outputId": "913fde10-9084-4437-b2df-3268cb75bc36"
      },
      "execution_count": null,
      "outputs": [
        {
          "output_type": "execute_result",
          "data": {
            "text/plain": [
              "array(['Lying', 'Running 3 METs', 'Running 5 METs', 'Running 7 METs',\n",
              "       'Self Pace walk', 'Sitting'], dtype=object)"
            ]
          },
          "metadata": {},
          "execution_count": 127
        }
      ]
    },
    {
      "cell_type": "code",
      "source": [
        "class_names[pred]"
      ],
      "metadata": {
        "colab": {
          "base_uri": "https://localhost:8080/"
        },
        "id": "hu_ikuZKgYEc",
        "outputId": "b7a64d1f-00f5-4bdb-dafd-612271d45af2"
      },
      "execution_count": null,
      "outputs": [
        {
          "output_type": "execute_result",
          "data": {
            "text/plain": [
              "array(['Lying'], dtype=object)"
            ]
          },
          "metadata": {},
          "execution_count": 118
        }
      ]
    },
    {
      "cell_type": "code",
      "source": [
        "def predict_activity(height,weight,steps,calories,distance,resting_rate):\n",
        "  arr=np.array([[height,weight,steps,calories,distance,resting_rate]])\n",
        "  # load model\n",
        "  ml_model_pl = pickle.load(open('Health_Care_Model1.pickle', 'rb'))\n",
        "  pred=ml_model_pl.predict(arr)\n",
        "  class_names=['Lying', 'Running 3 METs', 'Running 5 METs', 'Running 7 METs',\n",
        "       'Self Pace walk', 'Sitting']\n",
        "  return class_names[int(pred)]"
      ],
      "metadata": {
        "id": "l_hR8mXPgmcy"
      },
      "execution_count": null,
      "outputs": []
    },
    {
      "cell_type": "code",
      "source": [
        "pred_class=predict_activity(168.0,65.4,10.771429,0.344533,0.008327,59.0)\n",
        "pred_class"
      ],
      "metadata": {
        "colab": {
          "base_uri": "https://localhost:8080/",
          "height": 36
        },
        "id": "-eU3u5kMhXGk",
        "outputId": "cd7ee015-c4e9-4ef2-b397-369ad3e3be70"
      },
      "execution_count": null,
      "outputs": [
        {
          "output_type": "execute_result",
          "data": {
            "text/plain": [
              "'Lying'"
            ],
            "application/vnd.google.colaboratory.intrinsic+json": {
              "type": "string"
            }
          },
          "metadata": {},
          "execution_count": 139
        }
      ]
    },
    {
      "cell_type": "code",
      "source": [],
      "metadata": {
        "id": "gso4VErLjxvq"
      },
      "execution_count": null,
      "outputs": []
    }
  ]
}