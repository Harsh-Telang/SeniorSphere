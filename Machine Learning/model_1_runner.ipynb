{
  "nbformat": 4,
  "nbformat_minor": 0,
  "metadata": {
    "colab": {
      "provenance": []
    },
    "kernelspec": {
      "name": "python3",
      "display_name": "Python 3"
    },
    "language_info": {
      "name": "python"
    }
  },
  "cells": [
    {
      "cell_type": "code",
      "execution_count": null,
      "metadata": {
        "id": "1kr_2bIqkD1l"
      },
      "outputs": [],
      "source": [
        "def predict_activity(height,weight,steps,calories,distance,resting_rate):\n",
        "  arr=np.array([[height,weight,steps,calories,distance,resting_rate]])\n",
        "  # load model\n",
        "  ml_model_pl = pickle.load(open('Health_Care_Model1.pickle', 'rb'))\n",
        "  pred=ml_model_pl.predict(arr)\n",
        "  class_names=['Lying', 'Running 3 METs', 'Running 5 METs', 'Running 7 METs',\n",
        "       'Self Pace walk', 'Sitting']\n",
        "  return class_names[int(pred)]"
      ]
    }
  ]
}